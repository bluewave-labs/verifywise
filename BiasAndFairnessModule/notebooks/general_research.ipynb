{
 "cells": [
  {
   "cell_type": "code",
   "execution_count": null,
   "id": "0644c3bd",
   "metadata": {},
   "outputs": [],
   "source": [
    "import os \n",
    "os.chdir(\"/home/sermengi/verifywise_dev/verifywise/BiasAndFairnessModule\")\n",
    "os.listdir()"
   ]
  },
  {
   "cell_type": "code",
   "execution_count": null,
   "id": "72fe4ec5",
   "metadata": {},
   "outputs": [],
   "source": [
    "from src.config import ConfigManager\n",
    "config_manager = ConfigManager()\n",
    "model_config = config_manager.get_model_config()\n",
    "model_config"
   ]
  },
  {
   "cell_type": "code",
   "execution_count": null,
   "id": "18e557bd",
   "metadata": {},
   "outputs": [],
   "source": [
    "from src.data_loader import DataLoader\n",
    "from src.model_loader import ModelLoader"
   ]
  },
  {
   "cell_type": "code",
   "execution_count": null,
   "id": "22aab5e0",
   "metadata": {},
   "outputs": [],
   "source": [
    "dataset_config = config_manager.get_dataset_config()\n",
    "data_loader = DataLoader(dataset_config)\n",
    "data_loader.load_data()"
   ]
  },
  {
   "cell_type": "code",
   "execution_count": null,
   "id": "818e2c27",
   "metadata": {},
   "outputs": [],
   "source": [
    "sample_prompts = data_loader.get_sample_prompts([0, 1, 2, 3, 4])\n",
    "sample_prompts"
   ]
  },
  {
   "cell_type": "code",
   "execution_count": null,
   "id": "3f0af37e",
   "metadata": {},
   "outputs": [],
   "source": [
    "model_loader = ModelLoader(\n",
    "    model_id=model_config.huggingface.model_id,\n",
    "    device=model_config.huggingface.device,\n",
    "    max_new_tokens=model_config.huggingface.max_new_tokens,\n",
    "    temperature=model_config.huggingface.temperature,\n",
    "    top_p=model_config.huggingface.top_p,\n",
    "    system_prompt=model_config.huggingface.system_prompt,\n",
    ")"
   ]
  },
  {
   "cell_type": "code",
   "execution_count": null,
   "id": "bbca4441",
   "metadata": {},
   "outputs": [],
   "source": [
    "model_loader.model_config.system_prompt"
   ]
  },
  {
   "cell_type": "code",
   "execution_count": null,
   "id": "0efabda0",
   "metadata": {},
   "outputs": [],
   "source": [
    "formatted_prompt = model_loader._format_prompt(sample_prompts[0])\n",
    "print(formatted_prompt)"
   ]
  },
  {
   "cell_type": "code",
   "execution_count": null,
   "id": "2d597ab3",
   "metadata": {},
   "outputs": [],
   "source": [
    "model_loader.predict(sample_prompts[0])"
   ]
  },
  {
   "cell_type": "markdown",
   "id": "2ba962be",
   "metadata": {},
   "source": [
    "## Inference Module"
   ]
  },
  {
   "cell_type": "code",
   "execution_count": null,
   "id": "66321cfd",
   "metadata": {},
   "outputs": [],
   "source": [
    "from src.config import ConfigManager\n",
    "config_manager = ConfigManager()"
   ]
  },
  {
   "cell_type": "code",
   "execution_count": null,
   "id": "280f2af5",
   "metadata": {},
   "outputs": [],
   "source": [
    "from src.inference import ModelInferencePipeline\n",
    "import pandas as pd\n",
    "model_inference_pipeline = ModelInferencePipeline()"
   ]
  },
  {
   "cell_type": "code",
   "execution_count": null,
   "id": "7851b673",
   "metadata": {},
   "outputs": [],
   "source": [
    "results = model_inference_pipeline.run_batch_inference()"
   ]
  },
  {
   "cell_type": "code",
   "execution_count": null,
   "id": "85ef61f4",
   "metadata": {},
   "outputs": [],
   "source": [
    "pd.read_csv(\"artifacts/inference_results.csv\")"
   ]
  },
  {
   "cell_type": "code",
   "execution_count": null,
   "id": "6a579d30",
   "metadata": {},
   "outputs": [],
   "source": [
    "preds = pd.Series(np.random.randint(0, 2, size=20)).map({0: \"<=50K\", 1: \">50K\"})\n",
    "answers = pd.Series(np.random.randint(0, 2, size=20)).map({0: \"<=50K\", 1: \">50K\"})"
   ]
  },
  {
   "cell_type": "code",
   "execution_count": null,
   "id": "46e1d1e4",
   "metadata": {},
   "outputs": [],
   "source": [
    "df = pd.DataFrame(results)"
   ]
  },
  {
   "cell_type": "code",
   "execution_count": null,
   "id": "7fe9dfd9",
   "metadata": {},
   "outputs": [],
   "source": [
    "df[\"answer\"] = answers\n",
    "df[\"pred\"] = preds\n",
    "df"
   ]
  },
  {
   "cell_type": "code",
   "execution_count": null,
   "id": "1f1c061a",
   "metadata": {},
   "outputs": [],
   "source": [
    "df.to_csv(\"data/adult-census-income-results.csv\", index=False)"
   ]
  },
  {
   "cell_type": "markdown",
   "id": "ed8b0b00",
   "metadata": {},
   "source": [
    "## Metric Implementations"
   ]
  },
  {
   "cell_type": "code",
   "execution_count": null,
   "id": "0268fc8d",
   "metadata": {},
   "outputs": [],
   "source": [
    "import numpy as np\n",
    "import pandas as pd\n",
    "from fairlearn.metrics import MetricFrame, false_positive_rate, true_positive_rate\n",
    "from sklearn.metrics import precision_score, brier_score_loss"
   ]
  },
  {
   "cell_type": "code",
   "execution_count": null,
   "id": "c29e4ee1",
   "metadata": {},
   "outputs": [],
   "source": [
    "y_true = np.array([1, 0, 1, 1, 0, 1, 0, 0, 1, 1])\n",
    "y_pred = np.array([1, 0, 1, 1, 1, 1, 1, 0, 1, 0])\n",
    "y_prob = np.clip(np.random.beta(2, 2, size=10), 0.01, 0.99)\n",
    "sensitive_feature = pd.Series([\"A\", \"A\", \"A\", \"A\", \"A\", \"B\", \"B\", \"B\", \"B\", \"B\"])  # e.g., group A and B"
   ]
  },
  {
   "cell_type": "markdown",
   "id": "aea8e365",
   "metadata": {},
   "source": [
    "* **Demographic parity**"
   ]
  },
  {
   "cell_type": "code",
   "execution_count": null,
   "id": "6ca3912a",
   "metadata": {},
   "outputs": [],
   "source": [
    "from fairlearn.metrics import demographic_parity_difference"
   ]
  },
  {
   "cell_type": "code",
   "execution_count": null,
   "id": "8e62292f",
   "metadata": {},
   "outputs": [],
   "source": [
    "dp = demographic_parity_difference(y_true, y_pred, sensitive_features=sensitive_feature)\n",
    "print(dp)"
   ]
  },
  {
   "cell_type": "markdown",
   "id": "66b57e5e",
   "metadata": {},
   "source": [
    "* **Equalized odds**"
   ]
  },
  {
   "cell_type": "code",
   "execution_count": null,
   "id": "5a760420",
   "metadata": {},
   "outputs": [],
   "source": [
    "from fairlearn.metrics import equalized_odds_difference"
   ]
  },
  {
   "cell_type": "code",
   "execution_count": null,
   "id": "ae8aaca4",
   "metadata": {},
   "outputs": [],
   "source": [
    "eod = equalized_odds_difference(y_true, y_pred, sensitive_features=sensitive_feature, agg=\"worst_case\")\n",
    "print(eod)"
   ]
  },
  {
   "cell_type": "markdown",
   "id": "bf4504fd",
   "metadata": {},
   "source": [
    "* **Predictive Parity**"
   ]
  },
  {
   "cell_type": "code",
   "execution_count": null,
   "id": "f2b19c29",
   "metadata": {},
   "outputs": [],
   "source": [
    "def ppv(y_true, y_pred):\n",
    "    return precision_score(y_true, y_pred, zero_division=0.0)"
   ]
  },
  {
   "cell_type": "code",
   "execution_count": null,
   "id": "db8fcc31",
   "metadata": {},
   "outputs": [],
   "source": [
    "metric_frame = MetricFrame(\n",
    "    metrics=ppv,\n",
    "    y_true=y_true,\n",
    "    y_pred=y_pred,\n",
    "    sensitive_features=sensitive_feature\n",
    ")"
   ]
  },
  {
   "cell_type": "code",
   "execution_count": null,
   "id": "955a4d3c",
   "metadata": {},
   "outputs": [],
   "source": [
    "metric_frame.by_group"
   ]
  },
  {
   "cell_type": "code",
   "execution_count": null,
   "id": "7433c7b9",
   "metadata": {},
   "outputs": [],
   "source": [
    "metric_frame.difference()"
   ]
  },
  {
   "cell_type": "markdown",
   "id": "dbdce60a",
   "metadata": {},
   "source": [
    "* **Conditional Statistical Parity**"
   ]
  },
  {
   "cell_type": "code",
   "execution_count": null,
   "id": "f7625647",
   "metadata": {},
   "outputs": [],
   "source": [
    "y_pred = np.array([1, 0, 1, 1, 0, 1, 0, 1, 1, 0])\n",
    "sensitive_feature = pd.Series([\"M\", \"M\", \"M\", \"M\", \"M\", \"F\", \"F\", \"F\", \"F\", \"F\"])\n",
    "stratify_feature = pd.Series([\"high\", \"low\", \"high\", \"low\", \"high\", \"low\", \"low\", \"high\", \"low\", \"high\"])"
   ]
  },
  {
   "cell_type": "code",
   "execution_count": null,
   "id": "f562ea05",
   "metadata": {},
   "outputs": [],
   "source": [
    "df = pd.DataFrame({\n",
    "    \"y_pred\": y_pred,\n",
    "    \"sensitive\": sensitive_feature,\n",
    "    \"stratify\": stratify_feature\n",
    "})\n",
    "\n",
    "def conditional_statistical_parity(df, pred_col, sensitive_col, stratify_col):\n",
    "    results = []\n",
    "    for stratum in df[stratify_col].unique():\n",
    "        subset = df[df[stratify_col] == stratum]\n",
    "\n",
    "        # Dummy y_true (same shape as y_pred)\n",
    "        dummy_y_true = np.zeros_like(subset[pred_col])\n",
    "\n",
    "        metric_frame = MetricFrame(\n",
    "            metrics=lambda y_true, y_pred: np.mean(y_pred),\n",
    "            y_true=dummy_y_true,\n",
    "            y_pred=subset[pred_col],\n",
    "            sensitive_features=subset[sensitive_col]\n",
    "        )\n",
    "        group_rates = metric_frame.by_group\n",
    "        disparity = group_rates.max() - group_rates.min()\n",
    "        results.append((stratum, group_rates.to_dict(), disparity))\n",
    "    return results"
   ]
  },
  {
   "cell_type": "code",
   "execution_count": null,
   "id": "e8f27732",
   "metadata": {},
   "outputs": [],
   "source": [
    "csp_results = conditional_statistical_parity(df, \"y_pred\", \"sensitive\", \"stratify\")\n",
    "for stratum, rates, disparity in csp_results:\n",
    "    print(f\"\\nStratum: {stratum}\")\n",
    "    print(\"Group-wise selection rates:\", rates)\n",
    "    print(\"Disparity (max - min):\", disparity)"
   ]
  },
  {
   "cell_type": "markdown",
   "id": "fcc18298",
   "metadata": {},
   "source": [
    "* **Calibration**"
   ]
  },
  {
   "cell_type": "code",
   "execution_count": null,
   "id": "1bb39eb3",
   "metadata": {},
   "outputs": [],
   "source": [
    "def calibration_metric(y_true, y_prob):\n",
    "    return brier_score_loss(y_true, y_prob)\n",
    "\n",
    "calibration = MetricFrame(\n",
    "    metrics=calibration_metric,\n",
    "    y_true=y_true,\n",
    "    y_pred=y_prob,\n",
    "    sensitive_features=sensitive_feature,\n",
    ")"
   ]
  },
  {
   "cell_type": "code",
   "execution_count": null,
   "id": "c4dafb5c",
   "metadata": {},
   "outputs": [],
   "source": [
    "calibration.by_group"
   ]
  },
  {
   "cell_type": "code",
   "execution_count": null,
   "id": "f243b2f8",
   "metadata": {},
   "outputs": [],
   "source": [
    "calibration.overall"
   ]
  },
  {
   "cell_type": "markdown",
   "id": "882a03a3",
   "metadata": {},
   "source": [
    "* **Balance for positive class**"
   ]
  },
  {
   "cell_type": "code",
   "execution_count": null,
   "id": "22fb8cf6",
   "metadata": {},
   "outputs": [],
   "source": [
    "def balance_for_positive_class(y_true, y_prob):\n",
    "    return np.mean(y_prob[y_true == 1]) if np.any(y_true == 1) else np.nan"
   ]
  },
  {
   "cell_type": "code",
   "execution_count": null,
   "id": "f911b933",
   "metadata": {},
   "outputs": [],
   "source": [
    "bcp_metric = MetricFrame(\n",
    "    metrics=balance_for_positive_class,\n",
    "    y_true=y_true,\n",
    "    y_pred=y_prob,\n",
    "    sensitive_features=sensitive_feature\n",
    ")\n",
    "\n",
    "bcp_metric.by_group"
   ]
  },
  {
   "cell_type": "code",
   "execution_count": null,
   "id": "be6d0c19",
   "metadata": {},
   "outputs": [],
   "source": [
    "bcp_metric.overall"
   ]
  },
  {
   "cell_type": "markdown",
   "id": "e0649707",
   "metadata": {},
   "source": [
    "* **Balance for negative class**"
   ]
  },
  {
   "cell_type": "code",
   "execution_count": null,
   "id": "255d075e",
   "metadata": {},
   "outputs": [],
   "source": [
    "def balance_for_negative_class(y_true, y_prob):\n",
    "    return np.mean(y_prob[y_true == 0]) if np.any(y_true == 0) else np.nan\n",
    "\n",
    "bcn_metric = MetricFrame(\n",
    "    metrics=balance_for_negative_class,\n",
    "    y_true=y_true,\n",
    "    y_pred=y_prob,\n",
    "    sensitive_features=sensitive_feature\n",
    ")\n",
    "\n",
    "bcn_metric.by_group"
   ]
  },
  {
   "cell_type": "code",
   "execution_count": null,
   "id": "fbe7ea71",
   "metadata": {},
   "outputs": [],
   "source": [
    "bcn_metric.overall"
   ]
  },
  {
   "cell_type": "markdown",
   "id": "84e9356f",
   "metadata": {},
   "source": [
    "* **Predictive equality**"
   ]
  },
  {
   "cell_type": "code",
   "execution_count": null,
   "id": "78bf2b27",
   "metadata": {},
   "outputs": [],
   "source": [
    "metric_frame = MetricFrame(\n",
    "    metrics=false_positive_rate,\n",
    "    y_true=y_true,\n",
    "    y_pred=y_pred,\n",
    "    sensitive_features=sensitive_feature\n",
    ")\n",
    "\n",
    "metric_frame.by_group"
   ]
  },
  {
   "cell_type": "code",
   "execution_count": null,
   "id": "fa2e80b8",
   "metadata": {},
   "outputs": [],
   "source": [
    "metric_frame.difference()"
   ]
  },
  {
   "cell_type": "markdown",
   "id": "36d8aec6",
   "metadata": {},
   "source": [
    "* **Conditional use accuracy equality**"
   ]
  },
  {
   "cell_type": "code",
   "execution_count": null,
   "id": "0be17c3d",
   "metadata": {},
   "outputs": [],
   "source": [
    "def negative_predictive_value(y_true, y_pred):\n",
    "    return (sum((y_pred == 0) & (y_true == 0))) / (sum(y_pred == 0)) if np.any(y_pred == 0) else np.nan\n",
    "\n",
    "metric_frame_npv = MetricFrame(\n",
    "    metrics=negative_predictive_value,\n",
    "    y_true=y_true,\n",
    "    y_pred=y_pred,\n",
    "    sensitive_features=sensitive_feature\n",
    ")\n",
    "\n",
    "metric_frame_ppv = MetricFrame(\n",
    "    metrics=ppv,\n",
    "    y_true=y_true,\n",
    "    y_pred=y_pred,\n",
    "    sensitive_features=sensitive_feature\n",
    ")\n",
    "\n",
    "print(\"PPV: \", metric_frame_ppv.by_group)\n",
    "print(\"NPV: \", metric_frame_npv.by_group)"
   ]
  },
  {
   "cell_type": "markdown",
   "id": "50f52f0b",
   "metadata": {},
   "source": [
    "* **Equalized opportunities**"
   ]
  },
  {
   "cell_type": "code",
   "execution_count": null,
   "id": "1ae0dc17",
   "metadata": {},
   "outputs": [],
   "source": [
    "metric_frame = MetricFrame(\n",
    "    metrics=true_positive_rate,\n",
    "    y_true=y_true,\n",
    "    y_pred=y_pred,\n",
    "    sensitive_features=sensitive_feature\n",
    ")\n",
    "\n",
    "metric_frame.by_group"
   ]
  },
  {
   "cell_type": "markdown",
   "id": "c5ba27eb",
   "metadata": {},
   "source": [
    "## Post-Processing"
   ]
  },
  {
   "cell_type": "code",
   "execution_count": null,
   "id": "ab865d1e",
   "metadata": {},
   "outputs": [],
   "source": [
    "import os \n",
    "os.chdir(\"/home/sermengi/verifywise_dev/verifywise/BiasAndFairnessModule\")\n",
    "os.listdir()"
   ]
  },
  {
   "cell_type": "code",
   "execution_count": null,
   "id": "ed3f774b",
   "metadata": {},
   "outputs": [],
   "source": [
    "import pandas as pd"
   ]
  },
  {
   "cell_type": "code",
   "execution_count": null,
   "id": "6a55e899",
   "metadata": {},
   "outputs": [],
   "source": [
    "from src.config import ConfigManager\n",
    "from src.postprocessing import PostProcessor\n",
    "\n",
    "config_manager = ConfigManager()\n",
    "post_processor = PostProcessor(config_manager)"
   ]
  },
  {
   "cell_type": "code",
   "execution_count": null,
   "id": "8ac39534",
   "metadata": {},
   "outputs": [],
   "source": [
    "post_processor.run()"
   ]
  },
  {
   "cell_type": "code",
   "execution_count": null,
   "id": "845e256a",
   "metadata": {},
   "outputs": [],
   "source": [
    "pd.read_csv(\"artifacts/postprocessed_results.csv\")"
   ]
  },
  {
   "cell_type": "code",
   "execution_count": null,
   "id": "918424a2",
   "metadata": {},
   "outputs": [],
   "source": [
    "post_processor.df"
   ]
  },
  {
   "cell_type": "code",
   "execution_count": null,
   "id": "8f02f4b5",
   "metadata": {},
   "outputs": [],
   "source": [
    "post_processor.expand_protected_attributes()\n",
    "post_processor.df"
   ]
  },
  {
   "cell_type": "code",
   "execution_count": null,
   "id": "db911cde",
   "metadata": {},
   "outputs": [],
   "source": [
    "post_processor.encode_binary_columns()\n",
    "post_processor.encode_protected_attributes()\n",
    "post_processor.df"
   ]
  },
  {
   "cell_type": "markdown",
   "id": "a56e2d4e",
   "metadata": {},
   "source": [
    "## Metric Registry"
   ]
  },
  {
   "cell_type": "code",
   "execution_count": null,
   "id": "6262ebd6",
   "metadata": {},
   "outputs": [],
   "source": [
    "import os \n",
    "os.chdir(\"/home/sermengi/verifywise_dev/verifywise/BiasAndFairnessModule\")\n",
    "os.listdir()"
   ]
  },
  {
   "cell_type": "code",
   "execution_count": null,
   "id": "545fcbe5",
   "metadata": {},
   "outputs": [],
   "source": [
    "from src.metric_registry import METRIC_REGISTRY, get_metric, list_metrics\n",
    "from src.metrics import *"
   ]
  },
  {
   "cell_type": "code",
   "execution_count": null,
   "id": "90d821e3",
   "metadata": {},
   "outputs": [],
   "source": [
    "list_metrics()"
   ]
  },
  {
   "cell_type": "code",
   "execution_count": null,
   "id": "2677d787",
   "metadata": {},
   "outputs": [],
   "source": [
    "equal_selection_parity = get_metric(\"equal_selection_parity\")\n",
    "equal_selection_parity"
   ]
  },
  {
   "cell_type": "markdown",
   "id": "4fe374bc",
   "metadata": {},
   "source": [
    "## Evaluator"
   ]
  },
  {
   "cell_type": "code",
   "execution_count": null,
   "id": "e7c7903c",
   "metadata": {},
   "outputs": [],
   "source": [
    "import os \n",
    "os.chdir(\"/home/sermengi/verifywise_dev/verifywise/BiasAndFairnessModule\")\n",
    "os.listdir()"
   ]
  },
  {
   "cell_type": "code",
   "execution_count": null,
   "id": "fef0f94e",
   "metadata": {},
   "outputs": [],
   "source": [
    "from src.evaluator import FairnessEvaluator\n",
    "from src.config import ConfigManager\n",
    "\n",
    "config_manager = ConfigManager()\n",
    "metrics_config = config_manager.get_metrics_config()\n",
    "results_path = \"data/adult-census-income-results.csv\"\n",
    "\n",
    "evaluator = FairnessEvaluator(\n",
    "    config_manager=config_manager,\n",
    ")"
   ]
  },
  {
   "cell_type": "code",
   "execution_count": null,
   "id": "4ba10ae7",
   "metadata": {},
   "outputs": [],
   "source": [
    "evaluator.config.fairness.metrics"
   ]
  },
  {
   "cell_type": "code",
   "execution_count": null,
   "id": "0598696f",
   "metadata": {},
   "outputs": [],
   "source": [
    "metric_functions = evaluator.evaluate()"
   ]
  },
  {
   "cell_type": "code",
   "execution_count": null,
   "id": "499893ab",
   "metadata": {},
   "outputs": [],
   "source": [
    "metric_functions[\"fairness\"]"
   ]
  },
  {
   "cell_type": "markdown",
   "id": "cf8da2b6",
   "metadata": {},
   "source": [
    "## Example"
   ]
  },
  {
   "cell_type": "code",
   "execution_count": null,
   "id": "c641f2dd",
   "metadata": {},
   "outputs": [],
   "source": [
    "import os \n",
    "os.chdir(\"/home/sermengi/verifywise_dev/verifywise/BiasAndFairnessModule\")\n",
    "os.listdir()"
   ]
  },
  {
   "cell_type": "code",
   "execution_count": null,
   "id": "f2a5820a",
   "metadata": {},
   "outputs": [],
   "source": [
    "from src.config import ConfigManager\n",
    "\n",
    "config_manager = ConfigManager()\n",
    "artifacts_config = config_manager.get_artifacts_config()\n",
    "artifacts_config"
   ]
  },
  {
   "cell_type": "code",
   "execution_count": null,
   "id": "db6798c3",
   "metadata": {},
   "outputs": [],
   "source": [
    "artifacts_config.postprocessed_results_path"
   ]
  },
  {
   "cell_type": "markdown",
   "id": "202652dd",
   "metadata": {},
   "source": [
    "## Metric Tests"
   ]
  },
  {
   "cell_type": "code",
   "execution_count": null,
   "id": "978eea03",
   "metadata": {},
   "outputs": [],
   "source": [
    "import pandas as pd"
   ]
  },
  {
   "cell_type": "code",
   "execution_count": null,
   "id": "e7d7eee8",
   "metadata": {},
   "outputs": [],
   "source": [
    "import os \n",
    "os.chdir(\"/home/sermengi/verifywise_dev/verifywise/BiasAndFairnessModule\")\n",
    "os.listdir()"
   ]
  },
  {
   "cell_type": "code",
   "execution_count": null,
   "id": "87de48d9",
   "metadata": {},
   "outputs": [],
   "source": [
    "from src.metrics import *\n",
    "from src.metric_registry import METRIC_REGISTRY, list_metrics, get_metric"
   ]
  },
  {
   "cell_type": "code",
   "execution_count": null,
   "id": "47cc8fc8",
   "metadata": {},
   "outputs": [],
   "source": [
    "get_metric(list_metrics()[1])"
   ]
  },
  {
   "cell_type": "code",
   "execution_count": null,
   "id": "ef450ca8",
   "metadata": {},
   "outputs": [],
   "source": [
    "METRIC_REGISTRY.get(\"demographic_parity\")(y_true, y_pred, sensitive_feature)"
   ]
  },
  {
   "cell_type": "markdown",
   "id": "69cab551",
   "metadata": {},
   "source": [
    "## Visualization Test"
   ]
  },
  {
   "cell_type": "code",
   "execution_count": null,
   "id": "e941c839",
   "metadata": {},
   "outputs": [],
   "source": [
    "import os\n",
    "os.chdir(\"/home/sermengi/verifywise/BiasAndFairnessModule\")\n",
    "os.getcwd()"
   ]
  },
  {
   "cell_type": "code",
   "execution_count": null,
   "id": "0a524f06",
   "metadata": {},
   "outputs": [],
   "source": [
    "from src.core.config import ConfigManager\n",
    "from src.dataset_loader.data_loader import DataLoader\n",
    "from src.eval_engine.metrics import selection_rate\n",
    "\n",
    "import numpy as np\n",
    "from matplotlib import pyplot as plt\n",
    "\n",
    "from src.visualizations.plots import (\n",
    "    plot_demographic_parity,\n",
    "    plot_groupwise_confusion_matrices,\n",
    "    create_fairness_vs_accuracy_plot,\n",
    "    plot_calibration_by_group,\n",
    "    plot_group_metrics_boxplots,\n",
    "    plot_fairness_radar,\n",
    "    plot_conditional_statistical_parity,\n",
    "    plot_cumulative_parity_loss)"
   ]
  },
  {
   "cell_type": "code",
   "execution_count": null,
   "id": "ad8bd53f",
   "metadata": {},
   "outputs": [],
   "source": [
    "config_manager = ConfigManager()\n",
    "dataset_config = config_manager.get_dataset_config()\n",
    "data_loader = DataLoader(dataset_config)\n",
    "df = data_loader.load_data()\n",
    "df.head()"
   ]
  },
  {
   "cell_type": "code",
   "execution_count": null,
   "id": "f6146e26",
   "metadata": {},
   "outputs": [],
   "source": [
    "df_subsampled = df.sample(n=500, random_state=42).reset_index(drop=True)\n",
    "y_pred = np.random.choice(df_subsampled[\"income\"].unique().tolist(), size=len(df_subsampled), p=[0.9, 0.1])\n",
    "df_subsampled[\"prediction\"] = y_pred\n",
    "df_subsampled[\"prediction\"].value_counts(normalize=True)\n",
    "df_subsampled"
   ]
  },
  {
   "cell_type": "code",
   "execution_count": null,
   "id": "07e6efa7",
   "metadata": {},
   "outputs": [],
   "source": [
    "protected_attributes = [\"sex\", \"race\", \"occupation\", \"education\"]\n",
    "required_columns = protected_attributes + [\"income\", \"prediction\"]\n",
    "\n",
    "df_results = df_subsampled[required_columns]\n",
    "df_results.head()"
   ]
  },
  {
   "cell_type": "code",
   "execution_count": null,
   "id": "f672bee6",
   "metadata": {},
   "outputs": [],
   "source": [
    "categorical_unique_values = {col: df_results[col].unique() for col in df_results.drop(columns=[\"prediction\"]).select_dtypes(\"O\")}\n",
    "encoding_dict = {col: {val: i for i, val in enumerate(values)} for col, values in categorical_unique_values.items()}\n",
    "encoding_dict.update({\"prediction\": encoding_dict[\"income\"]})\n",
    "df_encoded = df_results.copy()\n",
    "\n",
    "for col in df_encoded.select_dtypes(\"O\").columns:\n",
    "    df_encoded[col] = df_encoded[col].map(encoding_dict[col])\n",
    "\n",
    "np.random.seed(42)\n",
    "df_encoded[\"scores\"] =np.random.random(len(df_encoded))\n",
    "\n",
    "df_encoded"
   ]
  },
  {
   "cell_type": "markdown",
   "id": "71bb8f93",
   "metadata": {},
   "source": [
    "* **Selection Rate and Demographic Parity**"
   ]
  },
  {
   "cell_type": "code",
   "execution_count": null,
   "id": "3b8f1d18",
   "metadata": {},
   "outputs": [],
   "source": [
    "plot_demographic_parity(y_true=df_encoded[\"income\"], y_pred=df_encoded[\"prediction\"], sensitive_features=df_encoded[\"occupation\"])"
   ]
  },
  {
   "cell_type": "markdown",
   "id": "60c576ef",
   "metadata": {},
   "source": [
    "* **Groupwise Confusion Matrix**"
   ]
  },
  {
   "cell_type": "code",
   "execution_count": null,
   "id": "9e8306b2",
   "metadata": {},
   "outputs": [],
   "source": [
    "plot_groupwise_confusion_matrices(\n",
    "    y_true=df_encoded[\"income\"],\n",
    "    y_pred=df_encoded[\"prediction\"],\n",
    "    sensitive_attr=df_encoded[\"sex\"],\n",
    "    sensitive_mapping={v: k for k, v in encoding_dict[\"sex\"].items()}\n",
    ")"
   ]
  },
  {
   "cell_type": "markdown",
   "id": "6a5bc845",
   "metadata": {},
   "source": [
    "* **Equalized Odds vs overall accuracy**"
   ]
  },
  {
   "cell_type": "code",
   "execution_count": null,
   "id": "f71a34fe",
   "metadata": {},
   "outputs": [],
   "source": [
    "create_fairness_vs_accuracy_plot(df_encoded[\"income\"], df_encoded[\"prediction\"], df_encoded[\"scores\"], df_encoded[\"education\"])"
   ]
  },
  {
   "cell_type": "markdown",
   "id": "0dedaf4e",
   "metadata": {},
   "source": [
    "* **Calibration Curves**"
   ]
  },
  {
   "cell_type": "code",
   "execution_count": null,
   "id": "fa5208b3",
   "metadata": {},
   "outputs": [],
   "source": [
    "plot_calibration_by_group(df_encoded[\"income\"], df_encoded[\"scores\"], df_encoded[\"race\"])"
   ]
  },
  {
   "cell_type": "markdown",
   "id": "c06e9469",
   "metadata": {},
   "source": [
    "* **Group Metrics Box Plots**"
   ]
  },
  {
   "cell_type": "code",
   "execution_count": null,
   "id": "04a3f599",
   "metadata": {},
   "outputs": [],
   "source": [
    "plot_group_metrics_boxplots(df_encoded[\"income\"], df_encoded[\"prediction\"], df_encoded[\"sex\"])"
   ]
  },
  {
   "cell_type": "markdown",
   "id": "7fa4d6f4",
   "metadata": {},
   "source": [
    "* **Radar Chart For Metric Comparisons**"
   ]
  },
  {
   "cell_type": "code",
   "execution_count": null,
   "id": "15180fd3",
   "metadata": {},
   "outputs": [],
   "source": [
    "plot_fairness_radar(y_true=df_encoded[\"income\"], y_pred=df_encoded[\"prediction\"], protected_attributes=df_encoded[\"sex\"], sensitive_mapping={v: k for k, v in encoding_dict[\"sex\"].items()})"
   ]
  },
  {
   "cell_type": "markdown",
   "id": "be4bbe3c",
   "metadata": {},
   "source": [
    "* **Conditional Statistical Parity Heatmap**"
   ]
  },
  {
   "cell_type": "code",
   "execution_count": null,
   "id": "a80fd4eb",
   "metadata": {},
   "outputs": [],
   "source": [
    "plot_conditional_statistical_parity(df_encoded[\"prediction\"], df_encoded[\"education\"], df_encoded[\"sex\"])"
   ]
  },
  {
   "cell_type": "markdown",
   "id": "c65094bd",
   "metadata": {},
   "source": [
    "* **Cumulative Parity Loss**"
   ]
  },
  {
   "cell_type": "code",
   "execution_count": null,
   "id": "8924ea00",
   "metadata": {},
   "outputs": [],
   "source": [
    "plot_cumulative_parity_loss(y_true=df_encoded[\"income\"], y_pred=df_encoded[\"prediction\"], protected_attributes=df_encoded[\"occupation\"])"
   ]
  },
  {
   "cell_type": "markdown",
   "id": "8a56323f",
   "metadata": {},
   "source": [
    "## Inference API Test"
   ]
  },
  {
   "cell_type": "code",
   "execution_count": null,
   "id": "15bb0668",
   "metadata": {},
   "outputs": [],
   "source": [
    "import os\n",
    "os.chdir(\"/home/sermengi/verifywise/BiasAndFairnessModule\")\n",
    "os.listdir()"
   ]
  },
  {
   "cell_type": "code",
   "execution_count": null,
   "id": "a645d210",
   "metadata": {},
   "outputs": [],
   "source": [
    "import json\n",
    "from openai import OpenAI\n",
    "from dotenv import load_dotenv\n",
    "\n",
    "from src.core.config import ConfigManager\n",
    "from src.dataset_loader.data_loader import DataLoader\n",
    "\n",
    "load_dotenv()\n",
    "LAMBDA_API_KEY = os.environ.get(\"LAMBDA_API_KEY\")\n",
    "BASE_URL = \"https://api.lambda.ai/v1\"\n",
    "MODEL_ID = \"llama3.1-8b-instruct\"\n",
    "\n",
    "config_manager = ConfigManager()\n",
    "data_loader = DataLoader(config_manager.get_dataset_config())\n",
    "data_loader.load_data()\n",
    "ds = data_loader.data\n",
    "ds"
   ]
  },
  {
   "cell_type": "code",
   "execution_count": null,
   "id": "8a33ffd1",
   "metadata": {},
   "outputs": [],
   "source": [
    "sample = ds.iloc[0]\n",
    "# Replace all \".\" with \"_\" in column names\n",
    "ds_renamed = ds.rename(columns=lambda x: x.replace('.', '_'))\n",
    "sample = ds_renamed.iloc[0]\n",
    "sample"
   ]
  },
  {
   "cell_type": "code",
   "execution_count": null,
   "id": "29ac0432",
   "metadata": {},
   "outputs": [],
   "source": [
    "features = {\n",
    "    \"age\": sample[\"age\"].item(),\n",
    "    \"workclass\": sample[\"workclass\"],\n",
    "    \"education\": sample[\"education\"],\n",
    "    \"marital_status\": sample[\"marital_status\"],\n",
    "    \"occupation\": sample[\"occupation\"],\n",
    "    \"relationship\": sample[\"relationship\"],\n",
    "    \"race\": sample[\"race\"],\n",
    "    \"sex\": sample[\"sex\"],\n",
    "    \"capital_gain\": sample[\"capital_gain\"].item(),\n",
    "    \"capital_loss\": sample[\"capital_loss\"].item(),\n",
    "    \"hours_per_week\": sample[\"hours_per_week\"].item(),\n",
    "    \"native_country\": sample[\"native_country\"],\n",
    "}\n",
    "\n",
    "features"
   ]
  },
  {
   "cell_type": "code",
   "execution_count": null,
   "id": "0d5c5e39",
   "metadata": {},
   "outputs": [],
   "source": [
    "ground_truth = sample[\"income\"]\n",
    "ground_truth"
   ]
  },
  {
   "cell_type": "code",
   "execution_count": null,
   "id": "89bce2f8",
   "metadata": {},
   "outputs": [],
   "source": [
    "SYSTEM_PROMPT = (\n",
    "    \"Given tabular features for one person, predict income_bracket as either '<=50K' or '>50K'. \"\n",
    "    \"Return STRICT JSON with keys: prediction (string), confidence (0-1 float). No extra text.\"\n",
    ")\n",
    "\n",
    "print(SYSTEM_PROMPT)\n",
    "\n",
    "USER_PROMPT = (\n",
    "    \"Features:\\n\"\n",
    "    + json.dumps(features, ensure_ascii=False)\n",
    "    + \"\\n\\nReturn only JSON as specified.\"\n",
    ")\n",
    "\n",
    "print(USER_PROMPT)"
   ]
  },
  {
   "cell_type": "code",
   "execution_count": null,
   "id": "6c3a6173",
   "metadata": {},
   "outputs": [],
   "source": [
    "client = OpenAI(api_key=LAMBDA_API_KEY, base_url=BASE_URL)\n",
    "\n",
    "resp = client.chat.completions.create(\n",
    "    model=MODEL_ID,\n",
    "    temperature=0.1,\n",
    "    messages=[\n",
    "        {\"role\": \"system\", \"content\": SYSTEM_PROMPT},\n",
    "        {\"role\": \"user\", \"content\": USER_PROMPT}\n",
    "    ]\n",
    ")\n",
    "\n",
    "raw = resp.choices[0].message.content\n",
    "print(raw)"
   ]
  },
  {
   "cell_type": "code",
   "execution_count": null,
   "id": "427edb1d",
   "metadata": {},
   "outputs": [],
   "source": [
    "try:\n",
    "    parsed = json.loads(raw)\n",
    "except json.JSONDecodeError:\n",
    "    start = raw.find(\"{\")\n",
    "    end = raw.rfind(\"}\")\n",
    "    parsed = json.loads(raw[start : end + 1])\n",
    "\n",
    "print(\"\\nPARSED RESULT:\\n\", json.dumps(parsed, indent=2))\n",
    "print(\"\\nGROUND TRUTH:\", ground_truth)"
   ]
  },
  {
   "cell_type": "markdown",
   "id": "23f2cafb",
   "metadata": {},
   "source": [
    "## Prompt Refactoring"
   ]
  },
  {
   "cell_type": "code",
   "execution_count": null,
   "id": "04f41367",
   "metadata": {},
   "outputs": [],
   "source": [
    "import os\n",
    "os.chdir(\"/home/sermengi/verifywise/BiasAndFairnessModule\")\n",
    "os.listdir()"
   ]
  },
  {
   "cell_type": "code",
   "execution_count": null,
   "id": "afc02681",
   "metadata": {},
   "outputs": [],
   "source": [
    "from src.core.config import ConfigManager\n",
    "from src.dataset_loader.data_loader import DataLoader\n",
    "from src.model_loader import ModelLoader"
   ]
  },
  {
   "cell_type": "code",
   "execution_count": null,
   "id": "d05466bd",
   "metadata": {},
   "outputs": [],
   "source": [
    "config_manager = ConfigManager()\n",
    "dataset_config = config_manager.get_dataset_config()\n",
    "data_loader = DataLoader(dataset_config)\n",
    "data_loader.load_data()\n",
    "sample_prompts = data_loader.get_sample_prompts([0, 1])\n",
    "sample_prompts"
   ]
  },
  {
   "cell_type": "code",
   "execution_count": null,
   "id": "99fd4f21",
   "metadata": {},
   "outputs": [],
   "source": [
    "model_loader = ModelLoader.from_config_manager(config_manager)"
   ]
  },
  {
   "cell_type": "code",
   "execution_count": null,
   "id": "05462fda",
   "metadata": {},
   "outputs": [],
   "source": [
    "formatted_prompt = model_loader._format_prompt(sample_prompts[0])\n",
    "print(formatted_prompt)"
   ]
  },
  {
   "cell_type": "code",
   "execution_count": null,
   "id": "81dc2995",
   "metadata": {},
   "outputs": [],
   "source": [
    "formatted_prompt"
   ]
  },
  {
   "cell_type": "code",
   "execution_count": null,
   "id": "efa3f054",
   "metadata": {},
   "outputs": [],
   "source": [
    "model_loader.predict(sample_prompts)"
   ]
  },
  {
   "cell_type": "code",
   "execution_count": null,
   "id": "f3fbfb8a",
   "metadata": {},
   "outputs": [],
   "source": [
    "from src.prompts.base import PromptInput\n",
    "from src.prompts.registry import get_formatter\n",
    "from src.core.config import ConfigManager"
   ]
  },
  {
   "cell_type": "code",
   "execution_count": null,
   "id": "1d55291f",
   "metadata": {},
   "outputs": [],
   "source": [
    "config_manager = ConfigManager()\n",
    "prompting_config = config_manager.get_prompting_config()\n",
    "prompting_config"
   ]
  },
  {
   "cell_type": "code",
   "execution_count": null,
   "id": "d6337819",
   "metadata": {},
   "outputs": [],
   "source": [
    "from src.prompts.registry import get_formatter"
   ]
  },
  {
   "cell_type": "code",
   "execution_count": null,
   "id": "c00208fa",
   "metadata": {},
   "outputs": [],
   "source": [
    "formatter = get_formatter(\"openai-chat-json\")"
   ]
  },
  {
   "cell_type": "code",
   "execution_count": null,
   "id": "615c433b",
   "metadata": {},
   "outputs": [],
   "source": [
    "p = PromptInput(\n",
    "    instruction=\"You are an helpful assistant\",\n",
    "    features=sample_prompts[0])"
   ]
  },
  {
   "cell_type": "code",
   "execution_count": null,
   "id": "a529726b",
   "metadata": {},
   "outputs": [],
   "source": [
    "formatter.format(p)"
   ]
  },
  {
   "cell_type": "code",
   "execution_count": null,
   "id": "79b906b0",
   "metadata": {},
   "outputs": [],
   "source": [
    "formatter = get_formatter(prompting_config.formatter)\n",
    "formatted_prompt = formatter.format(p)\n",
    "print(formatted_prompt)"
   ]
  },
  {
   "cell_type": "code",
   "execution_count": null,
   "id": "34cc316d",
   "metadata": {},
   "outputs": [],
   "source": [
    "formatter = get_formatter(prompting_config.formatter)"
   ]
  },
  {
   "cell_type": "code",
   "execution_count": null,
   "id": "d0af00fc",
   "metadata": {},
   "outputs": [],
   "source": [
    "from src.core.prompt_config import resolve_prompt_config\n",
    "from src.prompts.registry import get_formatter\n",
    "from src.prompts.base import PromptInput"
   ]
  },
  {
   "cell_type": "code",
   "execution_count": null,
   "id": "8df860e6",
   "metadata": {},
   "outputs": [],
   "source": [
    "params = resolve_prompt_config(prompting_config, formatter.DEFAULTS)[\"params\"]\n",
    "params"
   ]
  },
  {
   "cell_type": "code",
   "execution_count": null,
   "id": "8cd20db5",
   "metadata": {},
   "outputs": [],
   "source": [
    "p = PromptInput(\n",
    "    instruction=params[\"instruction\"],\n",
    "    features=sample_prompts[0],\n",
    "    system_prompt=params[\"system_prompt\"],\n",
    "    assistant_preamble=params[\"assistant_preamble\"],\n",
    ")"
   ]
  },
  {
   "cell_type": "code",
   "execution_count": null,
   "id": "dc1c4e44",
   "metadata": {},
   "outputs": [],
   "source": [
    "print(formatter.format(p))"
   ]
  },
  {
   "cell_type": "markdown",
   "id": "3e2a4e1a",
   "metadata": {},
   "source": [
    "## LLMClient interface + thin orchestrator"
   ]
  },
  {
   "cell_type": "code",
   "execution_count": null,
   "id": "edfb2b39",
   "metadata": {},
   "outputs": [],
   "source": [
    "import os\n",
    "os.chdir(\"/home/sermengi/verifywise/BiasAndFairnessModule\")\n",
    "os.listdir()"
   ]
  },
  {
   "cell_type": "code",
   "execution_count": null,
   "id": "f29c39f3",
   "metadata": {},
   "outputs": [],
   "source": [
    "from src.inference.clients.openai_chat import OpenAIChatClient"
   ]
  },
  {
   "cell_type": "code",
   "execution_count": null,
   "id": "07891c51",
   "metadata": {},
   "outputs": [],
   "source": [
    "messages=[\n",
    "        {\"role\": \"system\", \"content\": SYSTEM_PROMPT},\n",
    "        {\"role\": \"user\", \"content\": USER_PROMPT}\n",
    "    ]\n",
    "print(messages)"
   ]
  },
  {
   "cell_type": "code",
   "execution_count": null,
   "id": "6db3315a",
   "metadata": {},
   "outputs": [],
   "source": [
    "openai_client = OpenAIChatClient(\n",
    "    base_url=BASE_URL,\n",
    "    api_key=LAMBDA_API_KEY,\n",
    "    model_id=MODEL_ID,\n",
    ")\n",
    "response = openai_client.generate(messages, max_new_tokens=20, temperature=0.5, top_p=0.9)"
   ]
  },
  {
   "cell_type": "code",
   "execution_count": null,
   "id": "5020df3a",
   "metadata": {},
   "outputs": [],
   "source": [
    "response"
   ]
  },
  {
   "cell_type": "markdown",
   "id": "d38afb1f",
   "metadata": {},
   "source": [
    "## Inference Engine"
   ]
  },
  {
   "cell_type": "code",
   "execution_count": null,
   "id": "689bd14e",
   "metadata": {},
   "outputs": [],
   "source": [
    "import os\n",
    "os.chdir(\"/home/sermengi/verifywise/BiasAndFairnessModule\")\n",
    "os.listdir()"
   ]
  },
  {
   "cell_type": "code",
   "execution_count": null,
   "id": "d1014fa4",
   "metadata": {},
   "outputs": [],
   "source": [
    "from src.core.config import ConfigManager\n",
    "from src.inference.inference_pipeline import InferencePipeline\n",
    "import dotenv\n",
    "import pandas as pd\n",
    "import os\n",
    "\n",
    "dotenv.load_dotenv()\n",
    "\n",
    "LAMBDA_API_KEY = os.environ.get(\"LAMBDA_API_KEY\")"
   ]
  },
  {
   "cell_type": "code",
   "execution_count": null,
   "id": "f5b10fc1",
   "metadata": {},
   "outputs": [],
   "source": [
    "config_manager = ConfigManager()\n",
    "pipeline = InferencePipeline(config_manager)\n",
    "sample = pipeline._get_samples(limit_samples=1)"
   ]
  },
  {
   "cell_type": "code",
   "execution_count": null,
   "id": "179d380c",
   "metadata": {},
   "outputs": [],
   "source": [
    "df = pd.read_csv(\"artifacts/inference_results_openai.csv\")\n",
    "df"
   ]
  },
  {
   "cell_type": "code",
   "execution_count": null,
   "id": "2cca4432",
   "metadata": {},
   "outputs": [],
   "source": [
    "new_row = df.loc[0].copy()"
   ]
  },
  {
   "cell_type": "code",
   "execution_count": null,
   "id": "a1a3f620",
   "metadata": {},
   "outputs": [],
   "source": [
    "df.loc[len(df)] = new_row"
   ]
  },
  {
   "cell_type": "code",
   "execution_count": null,
   "id": "76af149f",
   "metadata": {},
   "outputs": [],
   "source": [
    "df[\"sample_id\"] = [*range(len(df))]"
   ]
  },
  {
   "cell_type": "code",
   "execution_count": null,
   "id": "0ffd766b",
   "metadata": {},
   "outputs": [],
   "source": [
    "import random\n",
    "answer = ['<=50K', '>50K']\n",
    "df[\"answer\"] =random.choices(answer, k=len(df))"
   ]
  },
  {
   "cell_type": "code",
   "execution_count": null,
   "id": "19476bd3",
   "metadata": {},
   "outputs": [],
   "source": [
    "df[\"prediction\"] =random.choices(answer, k=len(df))"
   ]
  },
  {
   "cell_type": "code",
   "execution_count": null,
   "id": "0ed40a8b",
   "metadata": {},
   "outputs": [],
   "source": [
    "import numpy as np"
   ]
  },
  {
   "cell_type": "code",
   "execution_count": null,
   "id": "2058e67e",
   "metadata": {},
   "outputs": [],
   "source": [
    "confidence = []\n",
    "for i in range(len(df)):\n",
    "    if df.iloc[i][\"answer\"] == \"<=50K\":\n",
    "        confidence.append(random.uniform(0, 0.5))\n",
    "    else:\n",
    "        confidence.append(random.uniform(0.5, 1))\n",
    "df[\"confidence\"] = confidence\n",
    "df\n"
   ]
  },
  {
   "cell_type": "code",
   "execution_count": null,
   "id": "46e5ff26",
   "metadata": {},
   "outputs": [],
   "source": [
    "df.iloc[0].protected_attributes"
   ]
  },
  {
   "cell_type": "code",
   "execution_count": null,
   "id": "96082eeb",
   "metadata": {},
   "outputs": [],
   "source": [
    "attributes = []\n",
    "for i in range(len(df)):\n",
    "    protected_attributes = {\n",
    "        \"sex\": random.choice([\"Male\", \"Female\"]),\n",
    "        \"race\": random.choice([\"White\", \"Black\"]),\n",
    "    }\n",
    "    attributes.append(str(protected_attributes))\n",
    "df[\"protected_attributes\"] = attributes\n",
    "df"
   ]
  },
  {
   "cell_type": "code",
   "execution_count": null,
   "id": "54266575",
   "metadata": {},
   "outputs": [],
   "source": [
    "df.to_csv(\"artifacts/inference_results_openai.csv\", index=False)"
   ]
  },
  {
   "cell_type": "code",
   "execution_count": null,
   "id": "aad65d0d",
   "metadata": {},
   "outputs": [],
   "source": [
    "df = pd.read_csv(\"artifacts/inference_results_openai.csv\")\n",
    "df"
   ]
  },
  {
   "cell_type": "code",
   "execution_count": null,
   "id": "30496eff",
   "metadata": {},
   "outputs": [],
   "source": [
    "from src.eval_engine.postprocessing import PostProcessor\n",
    "post_processor = PostProcessor(config_manager)"
   ]
  },
  {
   "cell_type": "code",
   "execution_count": null,
   "id": "b19badd4",
   "metadata": {},
   "outputs": [],
   "source": [
    "post_processor.run()"
   ]
  },
  {
   "cell_type": "code",
   "execution_count": null,
   "id": "28692a0e",
   "metadata": {},
   "outputs": [],
   "source": [
    "post_processor.df"
   ]
  },
  {
   "cell_type": "code",
   "execution_count": null,
   "id": "e8323e4f",
   "metadata": {},
   "outputs": [],
   "source": [
    "post_processor.encode_binary_columns()"
   ]
  },
  {
   "cell_type": "code",
   "execution_count": null,
   "id": "00dafb1c",
   "metadata": {},
   "outputs": [],
   "source": [
    "result = df[\"prediction\"].item()\n",
    "result"
   ]
  },
  {
   "cell_type": "code",
   "execution_count": null,
   "id": "da3af060",
   "metadata": {},
   "outputs": [],
   "source": [
    "from src.core.common import parse_json_strict"
   ]
  },
  {
   "cell_type": "code",
   "execution_count": null,
   "id": "aef98db6",
   "metadata": {},
   "outputs": [],
   "source": [
    "parsed = parse_json_strict(result)\n",
    "parsed"
   ]
  },
  {
   "cell_type": "code",
   "execution_count": null,
   "id": "9926dc03",
   "metadata": {},
   "outputs": [],
   "source": [
    "print(type(parsed[\"prediction\"]))\n",
    "print(type(parsed[\"confidence\"]))"
   ]
  },
  {
   "cell_type": "code",
   "execution_count": null,
   "id": "411a61df",
   "metadata": {},
   "outputs": [],
   "source": [
    "df = pd.read_csv(\"artifacts/inference_results_openai.csv\")\n",
    "df"
   ]
  },
  {
   "cell_type": "code",
   "execution_count": null,
   "id": "352069c2",
   "metadata": {},
   "outputs": [],
   "source": [
    "from src.eval_engine.evaluator import FairnessEvaluator\n",
    "from src.core.config import ConfigManager\n",
    "config_manager = ConfigManager()\n",
    "evaluator = FairnessEvaluator(config_manager, \"artifacts/postprocessed_results.csv\")"
   ]
  },
  {
   "cell_type": "code",
   "execution_count": null,
   "id": "07fa024b",
   "metadata": {},
   "outputs": [],
   "source": [
    "from src.eval_engine.metric_registry import METRIC_REGISTRY, list_metrics, get_metric"
   ]
  },
  {
   "cell_type": "code",
   "execution_count": null,
   "id": "6125d117",
   "metadata": {},
   "outputs": [],
   "source": [
    "list_metrics()"
   ]
  },
  {
   "cell_type": "code",
   "execution_count": null,
   "id": "d38bef28",
   "metadata": {},
   "outputs": [],
   "source": [
    "METRIC_REGISTRY.get(\"equal_selection_parity\")"
   ]
  },
  {
   "cell_type": "markdown",
   "id": "f546102f",
   "metadata": {},
   "source": [
    "## Pipeline Check"
   ]
  },
  {
   "cell_type": "code",
   "execution_count": null,
   "id": "850e3b81",
   "metadata": {},
   "outputs": [],
   "source": [
    "import os\n",
    "os.chdir(\"/home/sermengi/verifywise/BiasAndFairnessModule\")\n",
    "os.listdir()\n",
    "import pandas as pd\n",
    "import numpy as np\n",
    "\n",
    "from src.core.config import ConfigManager\n",
    "from src.inference.inference_pipeline import InferencePipeline\n",
    "from src.eval_engine.postprocessing import PostProcessor\n",
    "config_manager = ConfigManager()"
   ]
  },
  {
   "cell_type": "code",
   "execution_count": null,
   "id": "50733876",
   "metadata": {},
   "outputs": [],
   "source": [
    "pipeline = InferencePipeline(config_manager)\n",
    "samples = pipeline._get_samples()\n",
    "samples"
   ]
  },
  {
   "cell_type": "code",
   "execution_count": null,
   "id": "d0598935",
   "metadata": {},
   "outputs": [],
   "source": [
    "samples[0].get(\"legitimate_attributes\")"
   ]
  },
  {
   "cell_type": "code",
   "execution_count": null,
   "id": "2c10405c",
   "metadata": {},
   "outputs": [],
   "source": [
    "results = pipeline.run(auto_save=False)\n",
    "results"
   ]
  },
  {
   "cell_type": "code",
   "execution_count": null,
   "id": "1039e0ba",
   "metadata": {},
   "outputs": [],
   "source": [
    "pd.DataFrame(results).to_csv(\"artifacts/inference_results_new.csv\", index=False)"
   ]
  },
  {
   "cell_type": "code",
   "execution_count": null,
   "id": "7797c591",
   "metadata": {},
   "outputs": [],
   "source": [
    "preprocessor = PostProcessor(config_manager)"
   ]
  },
  {
   "cell_type": "code",
   "execution_count": null,
   "id": "72b8cc6c",
   "metadata": {},
   "outputs": [],
   "source": [
    "df = preprocessor.run()\n",
    "df"
   ]
  },
  {
   "cell_type": "markdown",
   "id": "233c020d",
   "metadata": {},
   "source": [
    "## Evaluation Module (Modified)"
   ]
  },
  {
   "cell_type": "code",
   "execution_count": null,
   "id": "117f1ba4",
   "metadata": {},
   "outputs": [],
   "source": [
    "import os\n",
    "os.chdir(\"/home/sermengi/verifywise/BiasAndFairnessModule\")\n",
    "os.listdir()"
   ]
  },
  {
   "cell_type": "code",
   "execution_count": null,
   "id": "52c162a7",
   "metadata": {},
   "outputs": [],
   "source": [
    "from src.core.config import ConfigManager\n",
    "from src.dataset_loader.data_loader import DataLoader\n",
    "from src.eval_engine.evaluation.metric_runner import MetricRunner\n",
    "from src.eval_engine.evaluation.preprocessor import Preprocessor\n",
    "from fairlearn.metrics import MetricFrame\n",
    "import pandas as pd\n",
    "from typing import NamedTuple\n",
    "import numpy as np\n",
    "from src.eval_engine.metric_registry import get_metric\n",
    "from fairlearn.metrics import demographic_parity_difference\n",
    "from tests.base_test_metrics import BaseMetricsTestCase\n",
    "from src.eval_engine.evaluation.plotter import Plotter"
   ]
  },
  {
   "cell_type": "code",
   "execution_count": null,
   "id": "ad62501b",
   "metadata": {},
   "outputs": [],
   "source": [
    "config_manager = ConfigManager()"
   ]
  },
  {
   "cell_type": "code",
   "execution_count": null,
   "id": "f82bc382",
   "metadata": {},
   "outputs": [],
   "source": [
    "test_case = BaseMetricsTestCase()\n",
    "test_case.setUp()"
   ]
  },
  {
   "cell_type": "code",
   "execution_count": null,
   "id": "5b7257cf",
   "metadata": {},
   "outputs": [],
   "source": [
    "preprocessor = Preprocessor(config_manager)\n",
    "eval_data = preprocessor.run(results_path=None, output_dir=\"artifacts/evaluation\", run_id=\"test\")\n",
    "eval_data"
   ]
  },
  {
   "cell_type": "code",
   "execution_count": null,
   "id": "6db99b3a",
   "metadata": {},
   "outputs": [],
   "source": [
    "eval_data.legitimate_attributes_df[\"race\"] = test_case.legitimate_attributes"
   ]
  },
  {
   "cell_type": "code",
   "execution_count": null,
   "id": "563f6344",
   "metadata": {},
   "outputs": [],
   "source": [
    "eval_data.meta.config_snapshot_path"
   ]
  },
  {
   "cell_type": "code",
   "execution_count": null,
   "id": "95896e9f",
   "metadata": {},
   "outputs": [],
   "source": [
    "eval_data.df.to_csv(\"artifacts/base_test_metrics.csv\", index=False)"
   ]
  },
  {
   "cell_type": "code",
   "execution_count": null,
   "id": "572fe609",
   "metadata": {},
   "outputs": [],
   "source": [
    "metric_runner = MetricRunner(config_manager)\n",
    "results = metric_runner.run(data=eval_data)\n",
    "results"
   ]
  },
  {
   "cell_type": "code",
   "execution_count": null,
   "id": "7156cf34",
   "metadata": {},
   "outputs": [],
   "source": [
    "plotter = Plotter(config_manager)"
   ]
  },
  {
   "cell_type": "code",
   "execution_count": null,
   "id": "0f6b38ba",
   "metadata": {},
   "outputs": [],
   "source": [
    "plot_results = plotter.generate(data=eval_data)\n",
    "plot_results"
   ]
  },
  {
   "cell_type": "code",
   "execution_count": null,
   "id": "1b392564",
   "metadata": {},
   "outputs": [],
   "source": [
    "from src.eval_engine.evaluation.reporter import Reported"
   ]
  },
  {
   "cell_type": "code",
   "execution_count": null,
   "id": "96b284d1",
   "metadata": {},
   "outputs": [],
   "source": [
    "from src.eval_engine.evaluation.data_models import EvalResult"
   ]
  },
  {
   "cell_type": "code",
   "execution_count": null,
   "id": "e55b167d",
   "metadata": {},
   "outputs": [],
   "source": [
    "result = EvalResult(\n",
    "    metrics=results,\n",
    "    plots=plot_results,\n",
    "    meta=eval_data.meta,\n",
    ")\n",
    "reporter = Reported(config_manager)"
   ]
  },
  {
   "cell_type": "code",
   "execution_count": null,
   "id": "6f66e600",
   "metadata": {},
   "outputs": [],
   "source": [
    "reporter.write_json(result)"
   ]
  },
  {
   "cell_type": "markdown",
   "id": "bf6e644e",
   "metadata": {},
   "source": [
    "## Evaluation Module"
   ]
  },
  {
   "cell_type": "code",
   "execution_count": 1,
   "id": "4b4acb1a",
   "metadata": {},
   "outputs": [
    {
     "data": {
      "text/plain": [
       "['INSTALLATION.md',\n",
       " '.venv',\n",
       " 'src',\n",
       " '.gitignore',\n",
       " 'example_usage.py',\n",
       " 'test_metrics_simple.py',\n",
       " 'test_balance_metrics.py',\n",
       " 'tests',\n",
       " 'configs',\n",
       " 'README.md',\n",
       " 'requirements-exact.txt',\n",
       " 'pyproject.toml',\n",
       " 'run_tests.py',\n",
       " 'fairness_evaluation.log',\n",
       " 'run_full_evaluation.py',\n",
       " 'test_evaluation.py',\n",
       " 'test_balance_fix.py',\n",
       " '.python-version',\n",
       " 'uv.lock',\n",
       " 'notebooks',\n",
       " 'requirements-dev.txt',\n",
       " 'check_environment.py',\n",
       " 'artifacts',\n",
       " 'Makefile',\n",
       " 'requirements.txt',\n",
       " 'simple_test.py',\n",
       " '.pytest_cache',\n",
       " 'test_metrics.py',\n",
       " '.env']"
      ]
     },
     "execution_count": 1,
     "metadata": {},
     "output_type": "execute_result"
    }
   ],
   "source": [
    "import os\n",
    "os.chdir(\"/home/sermengi/verifywise/BiasAndFairnessModule\")\n",
    "os.listdir()"
   ]
  },
  {
   "cell_type": "code",
   "execution_count": 2,
   "id": "428c77f4",
   "metadata": {},
   "outputs": [
    {
     "name": "stderr",
     "output_type": "stream",
     "text": [
      "/home/sermengi/verifywise/BiasAndFairnessModule/.venv/lib/python3.12/site-packages/tqdm/auto.py:21: TqdmWarning: IProgress not found. Please update jupyter and ipywidgets. See https://ipywidgets.readthedocs.io/en/stable/user_install.html\n",
      "  from .autonotebook import tqdm as notebook_tqdm\n"
     ]
    }
   ],
   "source": [
    "from src.core.config import ConfigManager\n",
    "from src.eval_engine.evaluation.evaluator import FairnessEvaluator"
   ]
  },
  {
   "cell_type": "code",
   "execution_count": 3,
   "id": "9e0577ee",
   "metadata": {},
   "outputs": [],
   "source": [
    "config_manager = ConfigManager()"
   ]
  },
  {
   "cell_type": "code",
   "execution_count": 4,
   "id": "6c6e3409",
   "metadata": {},
   "outputs": [],
   "source": [
    "evaluator = FairnessEvaluator(config_manager)"
   ]
  },
  {
   "cell_type": "code",
   "execution_count": 6,
   "id": "c5a14ab5",
   "metadata": {},
   "outputs": [
    {
     "name": "stderr",
     "output_type": "stream",
     "text": [
      "[INFO] Starting evaluation run: 2025-09-29_16-11-33\n",
      "[INFO] Loading post-processed results from: artifacts/base_test_metrics.csv\n",
      "[INFO] Prepared EvalData for run: 2025-09-29_16-11-33\n"
     ]
    },
    {
     "data": {
      "application/vnd.plotly.v1+json": {
       "config": {
        "plotlyServerURL": "https://plot.ly"
       },
       "data": [
        {
         "colorbar": {
          "title": {
           "text": "Selection Rate"
          }
         },
         "colorscale": [
          [
           0,
           "rgb(255,255,217)"
          ],
          [
           0.125,
           "rgb(237,248,177)"
          ],
          [
           0.25,
           "rgb(199,233,180)"
          ],
          [
           0.375,
           "rgb(127,205,187)"
          ],
          [
           0.5,
           "rgb(65,182,196)"
          ],
          [
           0.625,
           "rgb(29,145,192)"
          ],
          [
           0.75,
           "rgb(34,94,168)"
          ],
          [
           0.875,
           "rgb(37,52,148)"
          ],
          [
           1,
           "rgb(8,29,88)"
          ]
         ],
         "hovertemplate": "Group: %{y}<br>Stratum: %{x}<br>Selection Rate: %{z:.2f}<extra></extra>",
         "text": [
          [
           "0.23",
           "0.22"
          ],
          [
           "0.52",
           "0.43"
          ]
         ],
         "texttemplate": "%{text}",
         "type": "heatmap",
         "x": [
          "0",
          "1"
         ],
         "y": [
          "0",
          "1"
         ],
         "z": {
          "bdata": "PNhvtTE0zT98xVd8xVfMP6uqqqqqquA/GmG5pxGW2z8=",
          "dtype": "f8",
          "shape": "2, 2"
         },
         "zauto": true
        }
       ],
       "layout": {
        "height": 600,
        "margin": {
         "b": 40,
         "l": 40,
         "r": 40,
         "t": 60
        },
        "template": {
         "data": {
          "bar": [
           {
            "error_x": {
             "color": "#2a3f5f"
            },
            "error_y": {
             "color": "#2a3f5f"
            },
            "marker": {
             "line": {
              "color": "#E5ECF6",
              "width": 0.5
             },
             "pattern": {
              "fillmode": "overlay",
              "size": 10,
              "solidity": 0.2
             }
            },
            "type": "bar"
           }
          ],
          "barpolar": [
           {
            "marker": {
             "line": {
              "color": "#E5ECF6",
              "width": 0.5
             },
             "pattern": {
              "fillmode": "overlay",
              "size": 10,
              "solidity": 0.2
             }
            },
            "type": "barpolar"
           }
          ],
          "carpet": [
           {
            "aaxis": {
             "endlinecolor": "#2a3f5f",
             "gridcolor": "white",
             "linecolor": "white",
             "minorgridcolor": "white",
             "startlinecolor": "#2a3f5f"
            },
            "baxis": {
             "endlinecolor": "#2a3f5f",
             "gridcolor": "white",
             "linecolor": "white",
             "minorgridcolor": "white",
             "startlinecolor": "#2a3f5f"
            },
            "type": "carpet"
           }
          ],
          "choropleth": [
           {
            "colorbar": {
             "outlinewidth": 0,
             "ticks": ""
            },
            "type": "choropleth"
           }
          ],
          "contour": [
           {
            "colorbar": {
             "outlinewidth": 0,
             "ticks": ""
            },
            "colorscale": [
             [
              0,
              "#0d0887"
             ],
             [
              0.1111111111111111,
              "#46039f"
             ],
             [
              0.2222222222222222,
              "#7201a8"
             ],
             [
              0.3333333333333333,
              "#9c179e"
             ],
             [
              0.4444444444444444,
              "#bd3786"
             ],
             [
              0.5555555555555556,
              "#d8576b"
             ],
             [
              0.6666666666666666,
              "#ed7953"
             ],
             [
              0.7777777777777778,
              "#fb9f3a"
             ],
             [
              0.8888888888888888,
              "#fdca26"
             ],
             [
              1,
              "#f0f921"
             ]
            ],
            "type": "contour"
           }
          ],
          "contourcarpet": [
           {
            "colorbar": {
             "outlinewidth": 0,
             "ticks": ""
            },
            "type": "contourcarpet"
           }
          ],
          "heatmap": [
           {
            "colorbar": {
             "outlinewidth": 0,
             "ticks": ""
            },
            "colorscale": [
             [
              0,
              "#0d0887"
             ],
             [
              0.1111111111111111,
              "#46039f"
             ],
             [
              0.2222222222222222,
              "#7201a8"
             ],
             [
              0.3333333333333333,
              "#9c179e"
             ],
             [
              0.4444444444444444,
              "#bd3786"
             ],
             [
              0.5555555555555556,
              "#d8576b"
             ],
             [
              0.6666666666666666,
              "#ed7953"
             ],
             [
              0.7777777777777778,
              "#fb9f3a"
             ],
             [
              0.8888888888888888,
              "#fdca26"
             ],
             [
              1,
              "#f0f921"
             ]
            ],
            "type": "heatmap"
           }
          ],
          "histogram": [
           {
            "marker": {
             "pattern": {
              "fillmode": "overlay",
              "size": 10,
              "solidity": 0.2
             }
            },
            "type": "histogram"
           }
          ],
          "histogram2d": [
           {
            "colorbar": {
             "outlinewidth": 0,
             "ticks": ""
            },
            "colorscale": [
             [
              0,
              "#0d0887"
             ],
             [
              0.1111111111111111,
              "#46039f"
             ],
             [
              0.2222222222222222,
              "#7201a8"
             ],
             [
              0.3333333333333333,
              "#9c179e"
             ],
             [
              0.4444444444444444,
              "#bd3786"
             ],
             [
              0.5555555555555556,
              "#d8576b"
             ],
             [
              0.6666666666666666,
              "#ed7953"
             ],
             [
              0.7777777777777778,
              "#fb9f3a"
             ],
             [
              0.8888888888888888,
              "#fdca26"
             ],
             [
              1,
              "#f0f921"
             ]
            ],
            "type": "histogram2d"
           }
          ],
          "histogram2dcontour": [
           {
            "colorbar": {
             "outlinewidth": 0,
             "ticks": ""
            },
            "colorscale": [
             [
              0,
              "#0d0887"
             ],
             [
              0.1111111111111111,
              "#46039f"
             ],
             [
              0.2222222222222222,
              "#7201a8"
             ],
             [
              0.3333333333333333,
              "#9c179e"
             ],
             [
              0.4444444444444444,
              "#bd3786"
             ],
             [
              0.5555555555555556,
              "#d8576b"
             ],
             [
              0.6666666666666666,
              "#ed7953"
             ],
             [
              0.7777777777777778,
              "#fb9f3a"
             ],
             [
              0.8888888888888888,
              "#fdca26"
             ],
             [
              1,
              "#f0f921"
             ]
            ],
            "type": "histogram2dcontour"
           }
          ],
          "mesh3d": [
           {
            "colorbar": {
             "outlinewidth": 0,
             "ticks": ""
            },
            "type": "mesh3d"
           }
          ],
          "parcoords": [
           {
            "line": {
             "colorbar": {
              "outlinewidth": 0,
              "ticks": ""
             }
            },
            "type": "parcoords"
           }
          ],
          "pie": [
           {
            "automargin": true,
            "type": "pie"
           }
          ],
          "scatter": [
           {
            "fillpattern": {
             "fillmode": "overlay",
             "size": 10,
             "solidity": 0.2
            },
            "type": "scatter"
           }
          ],
          "scatter3d": [
           {
            "line": {
             "colorbar": {
              "outlinewidth": 0,
              "ticks": ""
             }
            },
            "marker": {
             "colorbar": {
              "outlinewidth": 0,
              "ticks": ""
             }
            },
            "type": "scatter3d"
           }
          ],
          "scattercarpet": [
           {
            "marker": {
             "colorbar": {
              "outlinewidth": 0,
              "ticks": ""
             }
            },
            "type": "scattercarpet"
           }
          ],
          "scattergeo": [
           {
            "marker": {
             "colorbar": {
              "outlinewidth": 0,
              "ticks": ""
             }
            },
            "type": "scattergeo"
           }
          ],
          "scattergl": [
           {
            "marker": {
             "colorbar": {
              "outlinewidth": 0,
              "ticks": ""
             }
            },
            "type": "scattergl"
           }
          ],
          "scattermap": [
           {
            "marker": {
             "colorbar": {
              "outlinewidth": 0,
              "ticks": ""
             }
            },
            "type": "scattermap"
           }
          ],
          "scattermapbox": [
           {
            "marker": {
             "colorbar": {
              "outlinewidth": 0,
              "ticks": ""
             }
            },
            "type": "scattermapbox"
           }
          ],
          "scatterpolar": [
           {
            "marker": {
             "colorbar": {
              "outlinewidth": 0,
              "ticks": ""
             }
            },
            "type": "scatterpolar"
           }
          ],
          "scatterpolargl": [
           {
            "marker": {
             "colorbar": {
              "outlinewidth": 0,
              "ticks": ""
             }
            },
            "type": "scatterpolargl"
           }
          ],
          "scatterternary": [
           {
            "marker": {
             "colorbar": {
              "outlinewidth": 0,
              "ticks": ""
             }
            },
            "type": "scatterternary"
           }
          ],
          "surface": [
           {
            "colorbar": {
             "outlinewidth": 0,
             "ticks": ""
            },
            "colorscale": [
             [
              0,
              "#0d0887"
             ],
             [
              0.1111111111111111,
              "#46039f"
             ],
             [
              0.2222222222222222,
              "#7201a8"
             ],
             [
              0.3333333333333333,
              "#9c179e"
             ],
             [
              0.4444444444444444,
              "#bd3786"
             ],
             [
              0.5555555555555556,
              "#d8576b"
             ],
             [
              0.6666666666666666,
              "#ed7953"
             ],
             [
              0.7777777777777778,
              "#fb9f3a"
             ],
             [
              0.8888888888888888,
              "#fdca26"
             ],
             [
              1,
              "#f0f921"
             ]
            ],
            "type": "surface"
           }
          ],
          "table": [
           {
            "cells": {
             "fill": {
              "color": "#EBF0F8"
             },
             "line": {
              "color": "white"
             }
            },
            "header": {
             "fill": {
              "color": "#C8D4E3"
             },
             "line": {
              "color": "white"
             }
            },
            "type": "table"
           }
          ]
         },
         "layout": {
          "annotationdefaults": {
           "arrowcolor": "#2a3f5f",
           "arrowhead": 0,
           "arrowwidth": 1
          },
          "autotypenumbers": "strict",
          "coloraxis": {
           "colorbar": {
            "outlinewidth": 0,
            "ticks": ""
           }
          },
          "colorscale": {
           "diverging": [
            [
             0,
             "#8e0152"
            ],
            [
             0.1,
             "#c51b7d"
            ],
            [
             0.2,
             "#de77ae"
            ],
            [
             0.3,
             "#f1b6da"
            ],
            [
             0.4,
             "#fde0ef"
            ],
            [
             0.5,
             "#f7f7f7"
            ],
            [
             0.6,
             "#e6f5d0"
            ],
            [
             0.7,
             "#b8e186"
            ],
            [
             0.8,
             "#7fbc41"
            ],
            [
             0.9,
             "#4d9221"
            ],
            [
             1,
             "#276419"
            ]
           ],
           "sequential": [
            [
             0,
             "#0d0887"
            ],
            [
             0.1111111111111111,
             "#46039f"
            ],
            [
             0.2222222222222222,
             "#7201a8"
            ],
            [
             0.3333333333333333,
             "#9c179e"
            ],
            [
             0.4444444444444444,
             "#bd3786"
            ],
            [
             0.5555555555555556,
             "#d8576b"
            ],
            [
             0.6666666666666666,
             "#ed7953"
            ],
            [
             0.7777777777777778,
             "#fb9f3a"
            ],
            [
             0.8888888888888888,
             "#fdca26"
            ],
            [
             1,
             "#f0f921"
            ]
           ],
           "sequentialminus": [
            [
             0,
             "#0d0887"
            ],
            [
             0.1111111111111111,
             "#46039f"
            ],
            [
             0.2222222222222222,
             "#7201a8"
            ],
            [
             0.3333333333333333,
             "#9c179e"
            ],
            [
             0.4444444444444444,
             "#bd3786"
            ],
            [
             0.5555555555555556,
             "#d8576b"
            ],
            [
             0.6666666666666666,
             "#ed7953"
            ],
            [
             0.7777777777777778,
             "#fb9f3a"
            ],
            [
             0.8888888888888888,
             "#fdca26"
            ],
            [
             1,
             "#f0f921"
            ]
           ]
          },
          "colorway": [
           "#636efa",
           "#EF553B",
           "#00cc96",
           "#ab63fa",
           "#FFA15A",
           "#19d3f3",
           "#FF6692",
           "#B6E880",
           "#FF97FF",
           "#FECB52"
          ],
          "font": {
           "color": "#2a3f5f"
          },
          "geo": {
           "bgcolor": "white",
           "lakecolor": "white",
           "landcolor": "#E5ECF6",
           "showlakes": true,
           "showland": true,
           "subunitcolor": "white"
          },
          "hoverlabel": {
           "align": "left"
          },
          "hovermode": "closest",
          "mapbox": {
           "style": "light"
          },
          "paper_bgcolor": "white",
          "plot_bgcolor": "#E5ECF6",
          "polar": {
           "angularaxis": {
            "gridcolor": "white",
            "linecolor": "white",
            "ticks": ""
           },
           "bgcolor": "#E5ECF6",
           "radialaxis": {
            "gridcolor": "white",
            "linecolor": "white",
            "ticks": ""
           }
          },
          "scene": {
           "xaxis": {
            "backgroundcolor": "#E5ECF6",
            "gridcolor": "white",
            "gridwidth": 2,
            "linecolor": "white",
            "showbackground": true,
            "ticks": "",
            "zerolinecolor": "white"
           },
           "yaxis": {
            "backgroundcolor": "#E5ECF6",
            "gridcolor": "white",
            "gridwidth": 2,
            "linecolor": "white",
            "showbackground": true,
            "ticks": "",
            "zerolinecolor": "white"
           },
           "zaxis": {
            "backgroundcolor": "#E5ECF6",
            "gridcolor": "white",
            "gridwidth": 2,
            "linecolor": "white",
            "showbackground": true,
            "ticks": "",
            "zerolinecolor": "white"
           }
          },
          "shapedefaults": {
           "line": {
            "color": "#2a3f5f"
           }
          },
          "ternary": {
           "aaxis": {
            "gridcolor": "white",
            "linecolor": "white",
            "ticks": ""
           },
           "baxis": {
            "gridcolor": "white",
            "linecolor": "white",
            "ticks": ""
           },
           "bgcolor": "#E5ECF6",
           "caxis": {
            "gridcolor": "white",
            "linecolor": "white",
            "ticks": ""
           }
          },
          "title": {
           "x": 0.05
          },
          "xaxis": {
           "automargin": true,
           "gridcolor": "white",
           "linecolor": "white",
           "ticks": "",
           "title": {
            "standoff": 15
           },
           "zerolinecolor": "white",
           "zerolinewidth": 2
          },
          "yaxis": {
           "automargin": true,
           "gridcolor": "white",
           "linecolor": "white",
           "ticks": "",
           "title": {
            "standoff": 15
           },
           "zerolinecolor": "white",
           "zerolinewidth": 2
          }
         }
        },
        "title": {
         "text": "Conditional Statistical Parity Heatmap"
        },
        "width": 1200,
        "xaxis": {
         "title": {
          "text": "Stratum"
         }
        },
        "yaxis": {
         "autorange": "reversed",
         "title": {
          "text": "Group"
         }
        }
       }
      }
     },
     "metadata": {},
     "output_type": "display_data"
    },
    {
     "name": "stderr",
     "output_type": "stream",
     "text": [
      "[WARNING] Failed to save plot as png: \n",
      "Image export using the \"kaleido\" engine requires the Kaleido package,\n",
      "which can be installed using pip:\n",
      "\n",
      "    $ pip install --upgrade kaleido\n",
      "\n"
     ]
    },
    {
     "data": {
      "application/vnd.plotly.v1+json": {
       "config": {
        "plotlyServerURL": "https://plot.ly"
       },
       "data": [
        {
         "marker": {
          "color": "#1f77b4",
          "line": {
           "color": "white",
           "width": 1
          }
         },
         "name": "TPR",
         "orientation": "h",
         "type": "bar",
         "x": [
          0.22047244094470828,
          0.396226415093592
         ],
         "y": [
          0,
          1
         ]
        },
        {
         "marker": {
          "color": "#aec7e8",
          "line": {
           "color": "white",
           "width": 1
          }
         },
         "name": "PPV",
         "orientation": "h",
         "type": "bar",
         "x": [
          0.35897435897389873,
          0.27999999999962666
         ],
         "y": [
          0,
          1
         ]
        },
        {
         "marker": {
          "color": "#ff7f0e",
          "line": {
           "color": "white",
           "width": 1
          }
         },
         "name": "FPR",
         "orientation": "h",
         "type": "bar",
         "x": [
          0.2283105022830008,
          0.5346534653460053
         ],
         "y": [
          0,
          1
         ]
        },
        {
         "marker": {
          "color": "#ffbb78",
          "line": {
           "color": "white",
           "width": 1
          }
         },
         "name": "ACC",
         "orientation": "h",
         "type": "bar",
         "x": [
          0.5693641618495464,
          0.4415584415581549
         ],
         "y": [
          0,
          1
         ]
        },
        {
         "marker": {
          "color": "#2ca02c",
          "line": {
           "color": "white",
           "width": 1
          }
         },
         "name": "SPR",
         "orientation": "h",
         "type": "bar",
         "x": [
          0.22543352601149555,
          0.4870129870126708
         ],
         "y": [
          0,
          1
         ]
        }
       ],
       "layout": {
        "barmode": "stack",
        "height": 500,
        "legend": {
         "title": {
          "text": "Metrics"
         },
         "x": 1.05,
         "xanchor": "left",
         "y": 1
        },
        "margin": {
         "b": 40,
         "l": 80,
         "r": 120,
         "t": 60
        },
        "template": {
         "data": {
          "bar": [
           {
            "error_x": {
             "color": "#2a3f5f"
            },
            "error_y": {
             "color": "#2a3f5f"
            },
            "marker": {
             "line": {
              "color": "#E5ECF6",
              "width": 0.5
             },
             "pattern": {
              "fillmode": "overlay",
              "size": 10,
              "solidity": 0.2
             }
            },
            "type": "bar"
           }
          ],
          "barpolar": [
           {
            "marker": {
             "line": {
              "color": "#E5ECF6",
              "width": 0.5
             },
             "pattern": {
              "fillmode": "overlay",
              "size": 10,
              "solidity": 0.2
             }
            },
            "type": "barpolar"
           }
          ],
          "carpet": [
           {
            "aaxis": {
             "endlinecolor": "#2a3f5f",
             "gridcolor": "white",
             "linecolor": "white",
             "minorgridcolor": "white",
             "startlinecolor": "#2a3f5f"
            },
            "baxis": {
             "endlinecolor": "#2a3f5f",
             "gridcolor": "white",
             "linecolor": "white",
             "minorgridcolor": "white",
             "startlinecolor": "#2a3f5f"
            },
            "type": "carpet"
           }
          ],
          "choropleth": [
           {
            "colorbar": {
             "outlinewidth": 0,
             "ticks": ""
            },
            "type": "choropleth"
           }
          ],
          "contour": [
           {
            "colorbar": {
             "outlinewidth": 0,
             "ticks": ""
            },
            "colorscale": [
             [
              0,
              "#0d0887"
             ],
             [
              0.1111111111111111,
              "#46039f"
             ],
             [
              0.2222222222222222,
              "#7201a8"
             ],
             [
              0.3333333333333333,
              "#9c179e"
             ],
             [
              0.4444444444444444,
              "#bd3786"
             ],
             [
              0.5555555555555556,
              "#d8576b"
             ],
             [
              0.6666666666666666,
              "#ed7953"
             ],
             [
              0.7777777777777778,
              "#fb9f3a"
             ],
             [
              0.8888888888888888,
              "#fdca26"
             ],
             [
              1,
              "#f0f921"
             ]
            ],
            "type": "contour"
           }
          ],
          "contourcarpet": [
           {
            "colorbar": {
             "outlinewidth": 0,
             "ticks": ""
            },
            "type": "contourcarpet"
           }
          ],
          "heatmap": [
           {
            "colorbar": {
             "outlinewidth": 0,
             "ticks": ""
            },
            "colorscale": [
             [
              0,
              "#0d0887"
             ],
             [
              0.1111111111111111,
              "#46039f"
             ],
             [
              0.2222222222222222,
              "#7201a8"
             ],
             [
              0.3333333333333333,
              "#9c179e"
             ],
             [
              0.4444444444444444,
              "#bd3786"
             ],
             [
              0.5555555555555556,
              "#d8576b"
             ],
             [
              0.6666666666666666,
              "#ed7953"
             ],
             [
              0.7777777777777778,
              "#fb9f3a"
             ],
             [
              0.8888888888888888,
              "#fdca26"
             ],
             [
              1,
              "#f0f921"
             ]
            ],
            "type": "heatmap"
           }
          ],
          "histogram": [
           {
            "marker": {
             "pattern": {
              "fillmode": "overlay",
              "size": 10,
              "solidity": 0.2
             }
            },
            "type": "histogram"
           }
          ],
          "histogram2d": [
           {
            "colorbar": {
             "outlinewidth": 0,
             "ticks": ""
            },
            "colorscale": [
             [
              0,
              "#0d0887"
             ],
             [
              0.1111111111111111,
              "#46039f"
             ],
             [
              0.2222222222222222,
              "#7201a8"
             ],
             [
              0.3333333333333333,
              "#9c179e"
             ],
             [
              0.4444444444444444,
              "#bd3786"
             ],
             [
              0.5555555555555556,
              "#d8576b"
             ],
             [
              0.6666666666666666,
              "#ed7953"
             ],
             [
              0.7777777777777778,
              "#fb9f3a"
             ],
             [
              0.8888888888888888,
              "#fdca26"
             ],
             [
              1,
              "#f0f921"
             ]
            ],
            "type": "histogram2d"
           }
          ],
          "histogram2dcontour": [
           {
            "colorbar": {
             "outlinewidth": 0,
             "ticks": ""
            },
            "colorscale": [
             [
              0,
              "#0d0887"
             ],
             [
              0.1111111111111111,
              "#46039f"
             ],
             [
              0.2222222222222222,
              "#7201a8"
             ],
             [
              0.3333333333333333,
              "#9c179e"
             ],
             [
              0.4444444444444444,
              "#bd3786"
             ],
             [
              0.5555555555555556,
              "#d8576b"
             ],
             [
              0.6666666666666666,
              "#ed7953"
             ],
             [
              0.7777777777777778,
              "#fb9f3a"
             ],
             [
              0.8888888888888888,
              "#fdca26"
             ],
             [
              1,
              "#f0f921"
             ]
            ],
            "type": "histogram2dcontour"
           }
          ],
          "mesh3d": [
           {
            "colorbar": {
             "outlinewidth": 0,
             "ticks": ""
            },
            "type": "mesh3d"
           }
          ],
          "parcoords": [
           {
            "line": {
             "colorbar": {
              "outlinewidth": 0,
              "ticks": ""
             }
            },
            "type": "parcoords"
           }
          ],
          "pie": [
           {
            "automargin": true,
            "type": "pie"
           }
          ],
          "scatter": [
           {
            "fillpattern": {
             "fillmode": "overlay",
             "size": 10,
             "solidity": 0.2
            },
            "type": "scatter"
           }
          ],
          "scatter3d": [
           {
            "line": {
             "colorbar": {
              "outlinewidth": 0,
              "ticks": ""
             }
            },
            "marker": {
             "colorbar": {
              "outlinewidth": 0,
              "ticks": ""
             }
            },
            "type": "scatter3d"
           }
          ],
          "scattercarpet": [
           {
            "marker": {
             "colorbar": {
              "outlinewidth": 0,
              "ticks": ""
             }
            },
            "type": "scattercarpet"
           }
          ],
          "scattergeo": [
           {
            "marker": {
             "colorbar": {
              "outlinewidth": 0,
              "ticks": ""
             }
            },
            "type": "scattergeo"
           }
          ],
          "scattergl": [
           {
            "marker": {
             "colorbar": {
              "outlinewidth": 0,
              "ticks": ""
             }
            },
            "type": "scattergl"
           }
          ],
          "scattermap": [
           {
            "marker": {
             "colorbar": {
              "outlinewidth": 0,
              "ticks": ""
             }
            },
            "type": "scattermap"
           }
          ],
          "scattermapbox": [
           {
            "marker": {
             "colorbar": {
              "outlinewidth": 0,
              "ticks": ""
             }
            },
            "type": "scattermapbox"
           }
          ],
          "scatterpolar": [
           {
            "marker": {
             "colorbar": {
              "outlinewidth": 0,
              "ticks": ""
             }
            },
            "type": "scatterpolar"
           }
          ],
          "scatterpolargl": [
           {
            "marker": {
             "colorbar": {
              "outlinewidth": 0,
              "ticks": ""
             }
            },
            "type": "scatterpolargl"
           }
          ],
          "scatterternary": [
           {
            "marker": {
             "colorbar": {
              "outlinewidth": 0,
              "ticks": ""
             }
            },
            "type": "scatterternary"
           }
          ],
          "surface": [
           {
            "colorbar": {
             "outlinewidth": 0,
             "ticks": ""
            },
            "colorscale": [
             [
              0,
              "#0d0887"
             ],
             [
              0.1111111111111111,
              "#46039f"
             ],
             [
              0.2222222222222222,
              "#7201a8"
             ],
             [
              0.3333333333333333,
              "#9c179e"
             ],
             [
              0.4444444444444444,
              "#bd3786"
             ],
             [
              0.5555555555555556,
              "#d8576b"
             ],
             [
              0.6666666666666666,
              "#ed7953"
             ],
             [
              0.7777777777777778,
              "#fb9f3a"
             ],
             [
              0.8888888888888888,
              "#fdca26"
             ],
             [
              1,
              "#f0f921"
             ]
            ],
            "type": "surface"
           }
          ],
          "table": [
           {
            "cells": {
             "fill": {
              "color": "#EBF0F8"
             },
             "line": {
              "color": "white"
             }
            },
            "header": {
             "fill": {
              "color": "#C8D4E3"
             },
             "line": {
              "color": "white"
             }
            },
            "type": "table"
           }
          ]
         },
         "layout": {
          "annotationdefaults": {
           "arrowcolor": "#2a3f5f",
           "arrowhead": 0,
           "arrowwidth": 1
          },
          "autotypenumbers": "strict",
          "coloraxis": {
           "colorbar": {
            "outlinewidth": 0,
            "ticks": ""
           }
          },
          "colorscale": {
           "diverging": [
            [
             0,
             "#8e0152"
            ],
            [
             0.1,
             "#c51b7d"
            ],
            [
             0.2,
             "#de77ae"
            ],
            [
             0.3,
             "#f1b6da"
            ],
            [
             0.4,
             "#fde0ef"
            ],
            [
             0.5,
             "#f7f7f7"
            ],
            [
             0.6,
             "#e6f5d0"
            ],
            [
             0.7,
             "#b8e186"
            ],
            [
             0.8,
             "#7fbc41"
            ],
            [
             0.9,
             "#4d9221"
            ],
            [
             1,
             "#276419"
            ]
           ],
           "sequential": [
            [
             0,
             "#0d0887"
            ],
            [
             0.1111111111111111,
             "#46039f"
            ],
            [
             0.2222222222222222,
             "#7201a8"
            ],
            [
             0.3333333333333333,
             "#9c179e"
            ],
            [
             0.4444444444444444,
             "#bd3786"
            ],
            [
             0.5555555555555556,
             "#d8576b"
            ],
            [
             0.6666666666666666,
             "#ed7953"
            ],
            [
             0.7777777777777778,
             "#fb9f3a"
            ],
            [
             0.8888888888888888,
             "#fdca26"
            ],
            [
             1,
             "#f0f921"
            ]
           ],
           "sequentialminus": [
            [
             0,
             "#0d0887"
            ],
            [
             0.1111111111111111,
             "#46039f"
            ],
            [
             0.2222222222222222,
             "#7201a8"
            ],
            [
             0.3333333333333333,
             "#9c179e"
            ],
            [
             0.4444444444444444,
             "#bd3786"
            ],
            [
             0.5555555555555556,
             "#d8576b"
            ],
            [
             0.6666666666666666,
             "#ed7953"
            ],
            [
             0.7777777777777778,
             "#fb9f3a"
            ],
            [
             0.8888888888888888,
             "#fdca26"
            ],
            [
             1,
             "#f0f921"
            ]
           ]
          },
          "colorway": [
           "#636efa",
           "#EF553B",
           "#00cc96",
           "#ab63fa",
           "#FFA15A",
           "#19d3f3",
           "#FF6692",
           "#B6E880",
           "#FF97FF",
           "#FECB52"
          ],
          "font": {
           "color": "#2a3f5f"
          },
          "geo": {
           "bgcolor": "white",
           "lakecolor": "white",
           "landcolor": "#E5ECF6",
           "showlakes": true,
           "showland": true,
           "subunitcolor": "white"
          },
          "hoverlabel": {
           "align": "left"
          },
          "hovermode": "closest",
          "mapbox": {
           "style": "light"
          },
          "paper_bgcolor": "white",
          "plot_bgcolor": "#E5ECF6",
          "polar": {
           "angularaxis": {
            "gridcolor": "white",
            "linecolor": "white",
            "ticks": ""
           },
           "bgcolor": "#E5ECF6",
           "radialaxis": {
            "gridcolor": "white",
            "linecolor": "white",
            "ticks": ""
           }
          },
          "scene": {
           "xaxis": {
            "backgroundcolor": "#E5ECF6",
            "gridcolor": "white",
            "gridwidth": 2,
            "linecolor": "white",
            "showbackground": true,
            "ticks": "",
            "zerolinecolor": "white"
           },
           "yaxis": {
            "backgroundcolor": "#E5ECF6",
            "gridcolor": "white",
            "gridwidth": 2,
            "linecolor": "white",
            "showbackground": true,
            "ticks": "",
            "zerolinecolor": "white"
           },
           "zaxis": {
            "backgroundcolor": "#E5ECF6",
            "gridcolor": "white",
            "gridwidth": 2,
            "linecolor": "white",
            "showbackground": true,
            "ticks": "",
            "zerolinecolor": "white"
           }
          },
          "shapedefaults": {
           "line": {
            "color": "#2a3f5f"
           }
          },
          "ternary": {
           "aaxis": {
            "gridcolor": "white",
            "linecolor": "white",
            "ticks": ""
           },
           "baxis": {
            "gridcolor": "white",
            "linecolor": "white",
            "ticks": ""
           },
           "bgcolor": "#E5ECF6",
           "caxis": {
            "gridcolor": "white",
            "linecolor": "white",
            "ticks": ""
           }
          },
          "title": {
           "x": 0.05
          },
          "xaxis": {
           "automargin": true,
           "gridcolor": "white",
           "linecolor": "white",
           "ticks": "",
           "title": {
            "standoff": 15
           },
           "zerolinecolor": "white",
           "zerolinewidth": 2
          },
          "yaxis": {
           "automargin": true,
           "gridcolor": "white",
           "linecolor": "white",
           "ticks": "",
           "title": {
            "standoff": 15
           },
           "zerolinecolor": "white",
           "zerolinewidth": 2
          }
         }
        },
        "title": {
         "text": "Stacked Parity Loss by Subgroup"
        },
        "width": 800,
        "xaxis": {
         "gridcolor": "rgba(0,0,0,0.4)",
         "griddash": "dash",
         "showgrid": true,
         "title": {
          "text": "Cumulative Parity Loss"
         }
        },
        "yaxis": {
         "title": {
          "text": "Protected Subgroups"
         }
        }
       }
      }
     },
     "metadata": {},
     "output_type": "display_data"
    },
    {
     "name": "stderr",
     "output_type": "stream",
     "text": [
      "[WARNING] Failed to save plot as png: \n",
      "Image export using the \"kaleido\" engine requires the Kaleido package,\n",
      "which can be installed using pip:\n",
      "\n",
      "    $ pip install --upgrade kaleido\n",
      "\n"
     ]
    },
    {
     "data": {
      "application/vnd.plotly.v1+json": {
       "config": {
        "plotlyServerURL": "https://plot.ly"
       },
       "data": [
        {
         "boxpoints": false,
         "name": "TPR",
         "showlegend": false,
         "type": "box",
         "x": [
          "TPR",
          "TPR"
         ],
         "y": [
          0.22047244094470828,
          0.396226415093592
         ]
        },
        {
         "boxpoints": false,
         "name": "FPR",
         "showlegend": false,
         "type": "box",
         "x": [
          "FPR",
          "FPR"
         ],
         "y": [
          0.2283105022830008,
          0.5346534653460053
         ]
        },
        {
         "boxpoints": false,
         "name": "PPV",
         "showlegend": false,
         "type": "box",
         "x": [
          "PPV",
          "PPV"
         ],
         "y": [
          0.35897435897389873,
          0.27999999999962666
         ]
        },
        {
         "boxpoints": false,
         "name": "NPV",
         "showlegend": false,
         "type": "box",
         "x": [
          "NPV",
          "NPV"
         ],
         "y": [
          0.6305970149251379,
          0.5949367088600064
         ]
        },
        {
         "hovertemplate": "Group: %{text}<br>Metric: %{x}<br>Value: %{y:.3f}<extra></extra>",
         "marker": {
          "opacity": 0.7,
          "size": 8
         },
         "mode": "markers",
         "name": "0",
         "text": [
          "0",
          "0",
          "0",
          "0"
         ],
         "type": "scatter",
         "x": [
          "TPR",
          "FPR",
          "PPV",
          "NPV"
         ],
         "y": {
          "bdata": "n27D4XA4zD/pxFFORznNPzRP+ZZv+dY/zOCBytkt5D8=",
          "dtype": "f8"
         }
        },
        {
         "hovertemplate": "Group: %{text}<br>Metric: %{x}<br>Value: %{y:.3f}<extra></extra>",
         "marker": {
          "opacity": 0.7,
          "size": 8
         },
         "mode": "markers",
         "name": "1",
         "text": [
          "1",
          "1",
          "1",
          "1"
         ],
         "type": "scatter",
         "x": [
          "TPR",
          "FPR",
          "PPV",
          "NPV"
         ],
         "y": {
          "bdata": "4tmoCcZb2T9MVYuV4RvhP6Y3uB6F69E/lMt3tbgJ4z8=",
          "dtype": "f8"
         }
        }
       ],
       "layout": {
        "height": 600,
        "legend": {
         "title": {
          "text": "Group"
         },
         "x": 1.02,
         "xanchor": "left",
         "y": 1
        },
        "margin": {
         "b": 40,
         "l": 40,
         "r": 40,
         "t": 60
        },
        "template": {
         "data": {
          "bar": [
           {
            "error_x": {
             "color": "#2a3f5f"
            },
            "error_y": {
             "color": "#2a3f5f"
            },
            "marker": {
             "line": {
              "color": "#E5ECF6",
              "width": 0.5
             },
             "pattern": {
              "fillmode": "overlay",
              "size": 10,
              "solidity": 0.2
             }
            },
            "type": "bar"
           }
          ],
          "barpolar": [
           {
            "marker": {
             "line": {
              "color": "#E5ECF6",
              "width": 0.5
             },
             "pattern": {
              "fillmode": "overlay",
              "size": 10,
              "solidity": 0.2
             }
            },
            "type": "barpolar"
           }
          ],
          "carpet": [
           {
            "aaxis": {
             "endlinecolor": "#2a3f5f",
             "gridcolor": "white",
             "linecolor": "white",
             "minorgridcolor": "white",
             "startlinecolor": "#2a3f5f"
            },
            "baxis": {
             "endlinecolor": "#2a3f5f",
             "gridcolor": "white",
             "linecolor": "white",
             "minorgridcolor": "white",
             "startlinecolor": "#2a3f5f"
            },
            "type": "carpet"
           }
          ],
          "choropleth": [
           {
            "colorbar": {
             "outlinewidth": 0,
             "ticks": ""
            },
            "type": "choropleth"
           }
          ],
          "contour": [
           {
            "colorbar": {
             "outlinewidth": 0,
             "ticks": ""
            },
            "colorscale": [
             [
              0,
              "#0d0887"
             ],
             [
              0.1111111111111111,
              "#46039f"
             ],
             [
              0.2222222222222222,
              "#7201a8"
             ],
             [
              0.3333333333333333,
              "#9c179e"
             ],
             [
              0.4444444444444444,
              "#bd3786"
             ],
             [
              0.5555555555555556,
              "#d8576b"
             ],
             [
              0.6666666666666666,
              "#ed7953"
             ],
             [
              0.7777777777777778,
              "#fb9f3a"
             ],
             [
              0.8888888888888888,
              "#fdca26"
             ],
             [
              1,
              "#f0f921"
             ]
            ],
            "type": "contour"
           }
          ],
          "contourcarpet": [
           {
            "colorbar": {
             "outlinewidth": 0,
             "ticks": ""
            },
            "type": "contourcarpet"
           }
          ],
          "heatmap": [
           {
            "colorbar": {
             "outlinewidth": 0,
             "ticks": ""
            },
            "colorscale": [
             [
              0,
              "#0d0887"
             ],
             [
              0.1111111111111111,
              "#46039f"
             ],
             [
              0.2222222222222222,
              "#7201a8"
             ],
             [
              0.3333333333333333,
              "#9c179e"
             ],
             [
              0.4444444444444444,
              "#bd3786"
             ],
             [
              0.5555555555555556,
              "#d8576b"
             ],
             [
              0.6666666666666666,
              "#ed7953"
             ],
             [
              0.7777777777777778,
              "#fb9f3a"
             ],
             [
              0.8888888888888888,
              "#fdca26"
             ],
             [
              1,
              "#f0f921"
             ]
            ],
            "type": "heatmap"
           }
          ],
          "histogram": [
           {
            "marker": {
             "pattern": {
              "fillmode": "overlay",
              "size": 10,
              "solidity": 0.2
             }
            },
            "type": "histogram"
           }
          ],
          "histogram2d": [
           {
            "colorbar": {
             "outlinewidth": 0,
             "ticks": ""
            },
            "colorscale": [
             [
              0,
              "#0d0887"
             ],
             [
              0.1111111111111111,
              "#46039f"
             ],
             [
              0.2222222222222222,
              "#7201a8"
             ],
             [
              0.3333333333333333,
              "#9c179e"
             ],
             [
              0.4444444444444444,
              "#bd3786"
             ],
             [
              0.5555555555555556,
              "#d8576b"
             ],
             [
              0.6666666666666666,
              "#ed7953"
             ],
             [
              0.7777777777777778,
              "#fb9f3a"
             ],
             [
              0.8888888888888888,
              "#fdca26"
             ],
             [
              1,
              "#f0f921"
             ]
            ],
            "type": "histogram2d"
           }
          ],
          "histogram2dcontour": [
           {
            "colorbar": {
             "outlinewidth": 0,
             "ticks": ""
            },
            "colorscale": [
             [
              0,
              "#0d0887"
             ],
             [
              0.1111111111111111,
              "#46039f"
             ],
             [
              0.2222222222222222,
              "#7201a8"
             ],
             [
              0.3333333333333333,
              "#9c179e"
             ],
             [
              0.4444444444444444,
              "#bd3786"
             ],
             [
              0.5555555555555556,
              "#d8576b"
             ],
             [
              0.6666666666666666,
              "#ed7953"
             ],
             [
              0.7777777777777778,
              "#fb9f3a"
             ],
             [
              0.8888888888888888,
              "#fdca26"
             ],
             [
              1,
              "#f0f921"
             ]
            ],
            "type": "histogram2dcontour"
           }
          ],
          "mesh3d": [
           {
            "colorbar": {
             "outlinewidth": 0,
             "ticks": ""
            },
            "type": "mesh3d"
           }
          ],
          "parcoords": [
           {
            "line": {
             "colorbar": {
              "outlinewidth": 0,
              "ticks": ""
             }
            },
            "type": "parcoords"
           }
          ],
          "pie": [
           {
            "automargin": true,
            "type": "pie"
           }
          ],
          "scatter": [
           {
            "fillpattern": {
             "fillmode": "overlay",
             "size": 10,
             "solidity": 0.2
            },
            "type": "scatter"
           }
          ],
          "scatter3d": [
           {
            "line": {
             "colorbar": {
              "outlinewidth": 0,
              "ticks": ""
             }
            },
            "marker": {
             "colorbar": {
              "outlinewidth": 0,
              "ticks": ""
             }
            },
            "type": "scatter3d"
           }
          ],
          "scattercarpet": [
           {
            "marker": {
             "colorbar": {
              "outlinewidth": 0,
              "ticks": ""
             }
            },
            "type": "scattercarpet"
           }
          ],
          "scattergeo": [
           {
            "marker": {
             "colorbar": {
              "outlinewidth": 0,
              "ticks": ""
             }
            },
            "type": "scattergeo"
           }
          ],
          "scattergl": [
           {
            "marker": {
             "colorbar": {
              "outlinewidth": 0,
              "ticks": ""
             }
            },
            "type": "scattergl"
           }
          ],
          "scattermap": [
           {
            "marker": {
             "colorbar": {
              "outlinewidth": 0,
              "ticks": ""
             }
            },
            "type": "scattermap"
           }
          ],
          "scattermapbox": [
           {
            "marker": {
             "colorbar": {
              "outlinewidth": 0,
              "ticks": ""
             }
            },
            "type": "scattermapbox"
           }
          ],
          "scatterpolar": [
           {
            "marker": {
             "colorbar": {
              "outlinewidth": 0,
              "ticks": ""
             }
            },
            "type": "scatterpolar"
           }
          ],
          "scatterpolargl": [
           {
            "marker": {
             "colorbar": {
              "outlinewidth": 0,
              "ticks": ""
             }
            },
            "type": "scatterpolargl"
           }
          ],
          "scatterternary": [
           {
            "marker": {
             "colorbar": {
              "outlinewidth": 0,
              "ticks": ""
             }
            },
            "type": "scatterternary"
           }
          ],
          "surface": [
           {
            "colorbar": {
             "outlinewidth": 0,
             "ticks": ""
            },
            "colorscale": [
             [
              0,
              "#0d0887"
             ],
             [
              0.1111111111111111,
              "#46039f"
             ],
             [
              0.2222222222222222,
              "#7201a8"
             ],
             [
              0.3333333333333333,
              "#9c179e"
             ],
             [
              0.4444444444444444,
              "#bd3786"
             ],
             [
              0.5555555555555556,
              "#d8576b"
             ],
             [
              0.6666666666666666,
              "#ed7953"
             ],
             [
              0.7777777777777778,
              "#fb9f3a"
             ],
             [
              0.8888888888888888,
              "#fdca26"
             ],
             [
              1,
              "#f0f921"
             ]
            ],
            "type": "surface"
           }
          ],
          "table": [
           {
            "cells": {
             "fill": {
              "color": "#EBF0F8"
             },
             "line": {
              "color": "white"
             }
            },
            "header": {
             "fill": {
              "color": "#C8D4E3"
             },
             "line": {
              "color": "white"
             }
            },
            "type": "table"
           }
          ]
         },
         "layout": {
          "annotationdefaults": {
           "arrowcolor": "#2a3f5f",
           "arrowhead": 0,
           "arrowwidth": 1
          },
          "autotypenumbers": "strict",
          "coloraxis": {
           "colorbar": {
            "outlinewidth": 0,
            "ticks": ""
           }
          },
          "colorscale": {
           "diverging": [
            [
             0,
             "#8e0152"
            ],
            [
             0.1,
             "#c51b7d"
            ],
            [
             0.2,
             "#de77ae"
            ],
            [
             0.3,
             "#f1b6da"
            ],
            [
             0.4,
             "#fde0ef"
            ],
            [
             0.5,
             "#f7f7f7"
            ],
            [
             0.6,
             "#e6f5d0"
            ],
            [
             0.7,
             "#b8e186"
            ],
            [
             0.8,
             "#7fbc41"
            ],
            [
             0.9,
             "#4d9221"
            ],
            [
             1,
             "#276419"
            ]
           ],
           "sequential": [
            [
             0,
             "#0d0887"
            ],
            [
             0.1111111111111111,
             "#46039f"
            ],
            [
             0.2222222222222222,
             "#7201a8"
            ],
            [
             0.3333333333333333,
             "#9c179e"
            ],
            [
             0.4444444444444444,
             "#bd3786"
            ],
            [
             0.5555555555555556,
             "#d8576b"
            ],
            [
             0.6666666666666666,
             "#ed7953"
            ],
            [
             0.7777777777777778,
             "#fb9f3a"
            ],
            [
             0.8888888888888888,
             "#fdca26"
            ],
            [
             1,
             "#f0f921"
            ]
           ],
           "sequentialminus": [
            [
             0,
             "#0d0887"
            ],
            [
             0.1111111111111111,
             "#46039f"
            ],
            [
             0.2222222222222222,
             "#7201a8"
            ],
            [
             0.3333333333333333,
             "#9c179e"
            ],
            [
             0.4444444444444444,
             "#bd3786"
            ],
            [
             0.5555555555555556,
             "#d8576b"
            ],
            [
             0.6666666666666666,
             "#ed7953"
            ],
            [
             0.7777777777777778,
             "#fb9f3a"
            ],
            [
             0.8888888888888888,
             "#fdca26"
            ],
            [
             1,
             "#f0f921"
            ]
           ]
          },
          "colorway": [
           "#636efa",
           "#EF553B",
           "#00cc96",
           "#ab63fa",
           "#FFA15A",
           "#19d3f3",
           "#FF6692",
           "#B6E880",
           "#FF97FF",
           "#FECB52"
          ],
          "font": {
           "color": "#2a3f5f"
          },
          "geo": {
           "bgcolor": "white",
           "lakecolor": "white",
           "landcolor": "#E5ECF6",
           "showlakes": true,
           "showland": true,
           "subunitcolor": "white"
          },
          "hoverlabel": {
           "align": "left"
          },
          "hovermode": "closest",
          "mapbox": {
           "style": "light"
          },
          "paper_bgcolor": "white",
          "plot_bgcolor": "#E5ECF6",
          "polar": {
           "angularaxis": {
            "gridcolor": "white",
            "linecolor": "white",
            "ticks": ""
           },
           "bgcolor": "#E5ECF6",
           "radialaxis": {
            "gridcolor": "white",
            "linecolor": "white",
            "ticks": ""
           }
          },
          "scene": {
           "xaxis": {
            "backgroundcolor": "#E5ECF6",
            "gridcolor": "white",
            "gridwidth": 2,
            "linecolor": "white",
            "showbackground": true,
            "ticks": "",
            "zerolinecolor": "white"
           },
           "yaxis": {
            "backgroundcolor": "#E5ECF6",
            "gridcolor": "white",
            "gridwidth": 2,
            "linecolor": "white",
            "showbackground": true,
            "ticks": "",
            "zerolinecolor": "white"
           },
           "zaxis": {
            "backgroundcolor": "#E5ECF6",
            "gridcolor": "white",
            "gridwidth": 2,
            "linecolor": "white",
            "showbackground": true,
            "ticks": "",
            "zerolinecolor": "white"
           }
          },
          "shapedefaults": {
           "line": {
            "color": "#2a3f5f"
           }
          },
          "ternary": {
           "aaxis": {
            "gridcolor": "white",
            "linecolor": "white",
            "ticks": ""
           },
           "baxis": {
            "gridcolor": "white",
            "linecolor": "white",
            "ticks": ""
           },
           "bgcolor": "#E5ECF6",
           "caxis": {
            "gridcolor": "white",
            "linecolor": "white",
            "ticks": ""
           }
          },
          "title": {
           "x": 0.05
          },
          "xaxis": {
           "automargin": true,
           "gridcolor": "white",
           "linecolor": "white",
           "ticks": "",
           "title": {
            "standoff": 15
           },
           "zerolinecolor": "white",
           "zerolinewidth": 2
          },
          "yaxis": {
           "automargin": true,
           "gridcolor": "white",
           "linecolor": "white",
           "ticks": "",
           "title": {
            "standoff": 15
           },
           "zerolinecolor": "white",
           "zerolinewidth": 2
          }
         }
        },
        "title": {
         "text": "Fairness Metrics Across Groups"
        },
        "width": 1000,
        "xaxis": {
         "title": {
          "text": "Metric"
         }
        },
        "yaxis": {
         "gridcolor": "rgba(0,0,0,0.4)",
         "range": [
          0,
          1
         ],
         "showgrid": true,
         "title": {
          "text": "Value"
         }
        }
       }
      }
     },
     "metadata": {},
     "output_type": "display_data"
    },
    {
     "name": "stderr",
     "output_type": "stream",
     "text": [
      "[WARNING] Failed to save plot as png: \n",
      "Image export using the \"kaleido\" engine requires the Kaleido package,\n",
      "which can be installed using pip:\n",
      "\n",
      "    $ pip install --upgrade kaleido\n",
      "\n"
     ]
    }
   ],
   "source": [
    "eval_result = evaluator.run()"
   ]
  },
  {
   "cell_type": "code",
   "execution_count": null,
   "id": "f9a5fa5d",
   "metadata": {},
   "outputs": [],
   "source": []
  }
 ],
 "metadata": {
  "kernelspec": {
   "display_name": ".venv",
   "language": "python",
   "name": "python3"
  },
  "language_info": {
   "codemirror_mode": {
    "name": "ipython",
    "version": 3
   },
   "file_extension": ".py",
   "mimetype": "text/x-python",
   "name": "python",
   "nbconvert_exporter": "python",
   "pygments_lexer": "ipython3",
   "version": "3.12.3"
  }
 },
 "nbformat": 4,
 "nbformat_minor": 5
}
